{
 "cells": [
  {
   "cell_type": "code",
   "execution_count": 2,
   "id": "63a4805a",
   "metadata": {},
   "outputs": [],
   "source": [
    "import requests\n",
    "import pandas as pd"
   ]
  },
  {
   "cell_type": "code",
   "execution_count": 4,
   "id": "a42e6ff4",
   "metadata": {},
   "outputs": [
    {
     "name": "stdout",
     "output_type": "stream",
     "text": [
      "{'message': 'You are not subscribed to this API.'}\n"
     ]
    }
   ],
   "source": [
    "import requests\n",
    "\n",
    "url = \"https://wft-geo-db.p.rapidapi.com/v1/geo/places/{placeId}/distance\"\n",
    "\n",
    "querystring = {\"toPlaceId\":\"Q60\"}   # Q60 = New York (example)\n",
    "\n",
    "headers = {\n",
    "    \"x-rapidapi-host\": \"wft-geo-db.p.rapidapi.com\",\n",
    "    \"x-rapidapi-key\": \"4ddccdb6a4mshbbcb3cacb5c0d90p1f063ajsncd56931340c0\"\n",
    "}\n",
    "\n",
    "response = requests.get(url, headers=headers, params=querystring)\n",
    "\n",
    "print(response.json())"
   ]
  }
 ],
 "metadata": {
  "kernelspec": {
   "display_name": "Python 3",
   "language": "python",
   "name": "python3"
  },
  "language_info": {
   "codemirror_mode": {
    "name": "ipython",
    "version": 3
   },
   "file_extension": ".py",
   "mimetype": "text/x-python",
   "name": "python",
   "nbconvert_exporter": "python",
   "pygments_lexer": "ipython3",
   "version": "3.13.7"
  }
 },
 "nbformat": 4,
 "nbformat_minor": 5
}
