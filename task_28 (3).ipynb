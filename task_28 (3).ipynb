{
  "nbformat": 4,
  "nbformat_minor": 0,
  "metadata": {
    "colab": {
      "provenance": []
    },
    "kernelspec": {
      "name": "python3",
      "display_name": "Python 3"
    },
    "language_info": {
      "name": "python"
    }
  },
  "cells": [
    {
      "cell_type": "markdown",
      "source": [
        "**Problem:**\n",
        "\n",
        "You are given the following dataset:\n",
        "1. **Audible Data** : https://1drv.ms/u/s!AiqdXCxPTydhoog8ckLN-6Cw55fzIg?e=EWgZ5d\n",
        "\n",
        "Your task is to:\n",
        "- Find the problems with the datasets.\n",
        "- Define the Data Quality Dimensions.\n",
        "- Try to clean the datasets."
      ],
      "metadata": {
        "id": "XEvslFhJIGJU"
      }
    },
    {
      "cell_type": "markdown",
      "source": [
        "## Problem with the dataset:\n",
        "- `name`:\n",
        "    - Some books has the version in different formats.\n",
        "        - [x] with hast-tag like \"Geronimo Stilton #11 & #12\".\n",
        "        - [x] \"Magic Tree House Collection: Books 9-16\".\n",
        "        - [x] \"The 39 Clues, Book 6\"\n",
        "    - â€™, Ã¤, Ã¼ values\n",
        "        - [x] Some rows (9, 34, 157, 162, 170...) have this strange part.\n",
        "\n",
        "\n",
        "- `author` & `narrator`:\n",
        "    - [x] Every value starts with \"Writtenby:\" e.g., \"Writtenby:GeronimoStilton\"\n",
        "    - [x] Some values represent 2 or more authors, e.g., \"Writtenby:JuliaDonaldson,AxelScheffler\"\n",
        "    - [x] Some values also have the strange part, e.g., \"Writtenby:FranciscoDÃ­azValladares\"\n",
        "    - [x] First name and the last are not separated with a white space, e.g. \"Writtenby:NicolasGorny\".\n",
        "    - [x] Some additional informations are also inclused in some values. E.g., \"Writtenby:AndrewPeterson-editor,JonathanRogers,N.D.Wilson,\"\n",
        "    - [x] There are no proper names in narrator, e.g., \"Narratedby:uncredited\".\n",
        "\n",
        "\n",
        "- `time`:\n",
        "    - [x] The values are combination of total hour and minutes, e.g., \"2 hrs and 20 mins\", \"10 hrs\", \"22 mins\"\n",
        "\n",
        "\n",
        "- `releasedate`:\n",
        "    - [x] There are 2 types entries, \"08-04-2008\" and \"13-01-10\"\n",
        "    - [x] The dtype is object, if we convert to datetime object, then the above will be resolved.\n",
        "\n",
        "\n",
        "- `language`\n",
        "    - [x] Some values are in title formed and some are in lower case, e.g. \"English\" and \"german\".\n",
        "\n",
        "\n",
        "- `stars`\n",
        "    - [x] Total ratings informations are included along with average stars, e.g. \"5 out of 5 stars34 ratings\"\n",
        "    - [x] The highest rating is 5 and lower is 1. How many avg. stargs got a book is included as long form.\n",
        "    - [x] Some empty values are represented as \"Not rated yet\". For that, we can assume total ratings = 0 and avg. ratings = 0.\n",
        "\n",
        "\n",
        "- `price`\n",
        "    - [x] There is a value, \"Free\". This also change the dtype of the column."
      ],
      "metadata": {
        "id": "2Px-Ny_BOyVk"
      }
    },
    {
      "cell_type": "code",
      "source": [
        "import numpy as np\n",
        "import pandas as pd\n",
        "\n",
        "import re"
      ],
      "metadata": {
        "id": "_5VzbCKt_5c2"
      },
      "execution_count": null,
      "outputs": []
    },
    {
      "cell_type": "code",
      "execution_count": 7,
      "metadata": {
        "id": "NNulI0TZDZaP",
        "colab": {
          "base_uri": "https://localhost:8080/"
        },
        "outputId": "9d89993c-0955-40fb-89e5-05d996523c1d"
      },
      "outputs": [
        {
          "output_type": "execute_result",
          "data": {
            "text/plain": [
              "(87489, 8)"
            ]
          },
          "metadata": {},
          "execution_count": 7
        }
      ],
      "source": [
        "# you can read the dataset by upload the excel file; here I am using same file's link\n",
        "df = pd.read_csv(\"/content/audible_uncleaned.csv\")\n",
        "df.head()\n",
        "df.shape"
      ]
    },
    {
      "cell_type": "code",
      "source": [
        "df.info()"
      ],
      "metadata": {
        "colab": {
          "base_uri": "https://localhost:8080/"
        },
        "id": "svItQw-kATA3",
        "outputId": "7ec54aaa-20a9-4c45-ae38-b3cd38e870c9"
      },
      "execution_count": null,
      "outputs": [
        {
          "output_type": "stream",
          "name": "stdout",
          "text": [
            "<class 'pandas.core.frame.DataFrame'>\n",
            "RangeIndex: 87489 entries, 0 to 87488\n",
            "Data columns (total 8 columns):\n",
            " #   Column       Non-Null Count  Dtype \n",
            "---  ------       --------------  ----- \n",
            " 0   name         87489 non-null  object\n",
            " 1   author       87489 non-null  object\n",
            " 2   narrator     87489 non-null  object\n",
            " 3   time         87489 non-null  object\n",
            " 4   releasedate  87489 non-null  object\n",
            " 5   language     87489 non-null  object\n",
            " 6   stars        87489 non-null  object\n",
            " 7   price        87489 non-null  object\n",
            "dtypes: object(8)\n",
            "memory usage: 5.3+ MB\n"
          ]
        }
      ]
    },
    {
      "cell_type": "code",
      "source": [
        "df.head()"
      ],
      "metadata": {
        "id": "ttWIS719ezue",
        "outputId": "e61fbc5a-ca09-444e-9a48-0f79cba10fea",
        "colab": {
          "base_uri": "https://localhost:8080/",
          "height": 293
        }
      },
      "execution_count": 8,
      "outputs": [
        {
          "output_type": "execute_result",
          "data": {
            "text/plain": [
              "                                         name                     author  \\\n",
              "0                  Geronimo Stilton #11 & #12  Writtenby:GeronimoStilton   \n",
              "1                            The Burning Maze      Writtenby:RickRiordan   \n",
              "2                                The Deep End       Writtenby:JeffKinney   \n",
              "3                        Daughter of the Deep      Writtenby:RickRiordan   \n",
              "4  The Lightning Thief: Percy Jackson, Book 1      Writtenby:RickRiordan   \n",
              "\n",
              "                    narrator                time releasedate language  \\\n",
              "0      Narratedby:BillLobely   2 hrs and 20 mins    04-08-08  English   \n",
              "1   Narratedby:RobbieDaymond   13 hrs and 8 mins    01-05-18  English   \n",
              "2      Narratedby:DanRussell    2 hrs and 3 mins    06-11-20  English   \n",
              "3  Narratedby:SoneelaNankani  11 hrs and 16 mins    05-10-21  English   \n",
              "4  Narratedby:JesseBernstein              10 hrs    13-01-10  English   \n",
              "\n",
              "                           stars   price  \n",
              "0     5 out of 5 stars34 ratings  468.00  \n",
              "1   4.5 out of 5 stars41 ratings  820.00  \n",
              "2   4.5 out of 5 stars38 ratings  410.00  \n",
              "3   4.5 out of 5 stars12 ratings  615.00  \n",
              "4  4.5 out of 5 stars181 ratings  820.00  "
            ],
            "text/html": [
              "\n",
              "  <div id=\"df-0d2664a2-0a4e-4cf5-8028-db740385f0a2\" class=\"colab-df-container\">\n",
              "    <div>\n",
              "<style scoped>\n",
              "    .dataframe tbody tr th:only-of-type {\n",
              "        vertical-align: middle;\n",
              "    }\n",
              "\n",
              "    .dataframe tbody tr th {\n",
              "        vertical-align: top;\n",
              "    }\n",
              "\n",
              "    .dataframe thead th {\n",
              "        text-align: right;\n",
              "    }\n",
              "</style>\n",
              "<table border=\"1\" class=\"dataframe\">\n",
              "  <thead>\n",
              "    <tr style=\"text-align: right;\">\n",
              "      <th></th>\n",
              "      <th>name</th>\n",
              "      <th>author</th>\n",
              "      <th>narrator</th>\n",
              "      <th>time</th>\n",
              "      <th>releasedate</th>\n",
              "      <th>language</th>\n",
              "      <th>stars</th>\n",
              "      <th>price</th>\n",
              "    </tr>\n",
              "  </thead>\n",
              "  <tbody>\n",
              "    <tr>\n",
              "      <th>0</th>\n",
              "      <td>Geronimo Stilton #11 &amp; #12</td>\n",
              "      <td>Writtenby:GeronimoStilton</td>\n",
              "      <td>Narratedby:BillLobely</td>\n",
              "      <td>2 hrs and 20 mins</td>\n",
              "      <td>04-08-08</td>\n",
              "      <td>English</td>\n",
              "      <td>5 out of 5 stars34 ratings</td>\n",
              "      <td>468.00</td>\n",
              "    </tr>\n",
              "    <tr>\n",
              "      <th>1</th>\n",
              "      <td>The Burning Maze</td>\n",
              "      <td>Writtenby:RickRiordan</td>\n",
              "      <td>Narratedby:RobbieDaymond</td>\n",
              "      <td>13 hrs and 8 mins</td>\n",
              "      <td>01-05-18</td>\n",
              "      <td>English</td>\n",
              "      <td>4.5 out of 5 stars41 ratings</td>\n",
              "      <td>820.00</td>\n",
              "    </tr>\n",
              "    <tr>\n",
              "      <th>2</th>\n",
              "      <td>The Deep End</td>\n",
              "      <td>Writtenby:JeffKinney</td>\n",
              "      <td>Narratedby:DanRussell</td>\n",
              "      <td>2 hrs and 3 mins</td>\n",
              "      <td>06-11-20</td>\n",
              "      <td>English</td>\n",
              "      <td>4.5 out of 5 stars38 ratings</td>\n",
              "      <td>410.00</td>\n",
              "    </tr>\n",
              "    <tr>\n",
              "      <th>3</th>\n",
              "      <td>Daughter of the Deep</td>\n",
              "      <td>Writtenby:RickRiordan</td>\n",
              "      <td>Narratedby:SoneelaNankani</td>\n",
              "      <td>11 hrs and 16 mins</td>\n",
              "      <td>05-10-21</td>\n",
              "      <td>English</td>\n",
              "      <td>4.5 out of 5 stars12 ratings</td>\n",
              "      <td>615.00</td>\n",
              "    </tr>\n",
              "    <tr>\n",
              "      <th>4</th>\n",
              "      <td>The Lightning Thief: Percy Jackson, Book 1</td>\n",
              "      <td>Writtenby:RickRiordan</td>\n",
              "      <td>Narratedby:JesseBernstein</td>\n",
              "      <td>10 hrs</td>\n",
              "      <td>13-01-10</td>\n",
              "      <td>English</td>\n",
              "      <td>4.5 out of 5 stars181 ratings</td>\n",
              "      <td>820.00</td>\n",
              "    </tr>\n",
              "  </tbody>\n",
              "</table>\n",
              "</div>\n",
              "    <div class=\"colab-df-buttons\">\n",
              "\n",
              "  <div class=\"colab-df-container\">\n",
              "    <button class=\"colab-df-convert\" onclick=\"convertToInteractive('df-0d2664a2-0a4e-4cf5-8028-db740385f0a2')\"\n",
              "            title=\"Convert this dataframe to an interactive table.\"\n",
              "            style=\"display:none;\">\n",
              "\n",
              "  <svg xmlns=\"http://www.w3.org/2000/svg\" height=\"24px\" viewBox=\"0 -960 960 960\">\n",
              "    <path d=\"M120-120v-720h720v720H120Zm60-500h600v-160H180v160Zm220 220h160v-160H400v160Zm0 220h160v-160H400v160ZM180-400h160v-160H180v160Zm440 0h160v-160H620v160ZM180-180h160v-160H180v160Zm440 0h160v-160H620v160Z\"/>\n",
              "  </svg>\n",
              "    </button>\n",
              "\n",
              "  <style>\n",
              "    .colab-df-container {\n",
              "      display:flex;\n",
              "      gap: 12px;\n",
              "    }\n",
              "\n",
              "    .colab-df-convert {\n",
              "      background-color: #E8F0FE;\n",
              "      border: none;\n",
              "      border-radius: 50%;\n",
              "      cursor: pointer;\n",
              "      display: none;\n",
              "      fill: #1967D2;\n",
              "      height: 32px;\n",
              "      padding: 0 0 0 0;\n",
              "      width: 32px;\n",
              "    }\n",
              "\n",
              "    .colab-df-convert:hover {\n",
              "      background-color: #E2EBFA;\n",
              "      box-shadow: 0px 1px 2px rgba(60, 64, 67, 0.3), 0px 1px 3px 1px rgba(60, 64, 67, 0.15);\n",
              "      fill: #174EA6;\n",
              "    }\n",
              "\n",
              "    .colab-df-buttons div {\n",
              "      margin-bottom: 4px;\n",
              "    }\n",
              "\n",
              "    [theme=dark] .colab-df-convert {\n",
              "      background-color: #3B4455;\n",
              "      fill: #D2E3FC;\n",
              "    }\n",
              "\n",
              "    [theme=dark] .colab-df-convert:hover {\n",
              "      background-color: #434B5C;\n",
              "      box-shadow: 0px 1px 3px 1px rgba(0, 0, 0, 0.15);\n",
              "      filter: drop-shadow(0px 1px 2px rgba(0, 0, 0, 0.3));\n",
              "      fill: #FFFFFF;\n",
              "    }\n",
              "  </style>\n",
              "\n",
              "    <script>\n",
              "      const buttonEl =\n",
              "        document.querySelector('#df-0d2664a2-0a4e-4cf5-8028-db740385f0a2 button.colab-df-convert');\n",
              "      buttonEl.style.display =\n",
              "        google.colab.kernel.accessAllowed ? 'block' : 'none';\n",
              "\n",
              "      async function convertToInteractive(key) {\n",
              "        const element = document.querySelector('#df-0d2664a2-0a4e-4cf5-8028-db740385f0a2');\n",
              "        const dataTable =\n",
              "          await google.colab.kernel.invokeFunction('convertToInteractive',\n",
              "                                                    [key], {});\n",
              "        if (!dataTable) return;\n",
              "\n",
              "        const docLinkHtml = 'Like what you see? Visit the ' +\n",
              "          '<a target=\"_blank\" href=https://colab.research.google.com/notebooks/data_table.ipynb>data table notebook</a>'\n",
              "          + ' to learn more about interactive tables.';\n",
              "        element.innerHTML = '';\n",
              "        dataTable['output_type'] = 'display_data';\n",
              "        await google.colab.output.renderOutput(dataTable, element);\n",
              "        const docLink = document.createElement('div');\n",
              "        docLink.innerHTML = docLinkHtml;\n",
              "        element.appendChild(docLink);\n",
              "      }\n",
              "    </script>\n",
              "  </div>\n",
              "\n",
              "\n",
              "    <div id=\"df-4f740524-371b-440a-9d58-53d54e9e4594\">\n",
              "      <button class=\"colab-df-quickchart\" onclick=\"quickchart('df-4f740524-371b-440a-9d58-53d54e9e4594')\"\n",
              "                title=\"Suggest charts\"\n",
              "                style=\"display:none;\">\n",
              "\n",
              "<svg xmlns=\"http://www.w3.org/2000/svg\" height=\"24px\"viewBox=\"0 0 24 24\"\n",
              "     width=\"24px\">\n",
              "    <g>\n",
              "        <path d=\"M19 3H5c-1.1 0-2 .9-2 2v14c0 1.1.9 2 2 2h14c1.1 0 2-.9 2-2V5c0-1.1-.9-2-2-2zM9 17H7v-7h2v7zm4 0h-2V7h2v10zm4 0h-2v-4h2v4z\"/>\n",
              "    </g>\n",
              "</svg>\n",
              "      </button>\n",
              "\n",
              "<style>\n",
              "  .colab-df-quickchart {\n",
              "      --bg-color: #E8F0FE;\n",
              "      --fill-color: #1967D2;\n",
              "      --hover-bg-color: #E2EBFA;\n",
              "      --hover-fill-color: #174EA6;\n",
              "      --disabled-fill-color: #AAA;\n",
              "      --disabled-bg-color: #DDD;\n",
              "  }\n",
              "\n",
              "  [theme=dark] .colab-df-quickchart {\n",
              "      --bg-color: #3B4455;\n",
              "      --fill-color: #D2E3FC;\n",
              "      --hover-bg-color: #434B5C;\n",
              "      --hover-fill-color: #FFFFFF;\n",
              "      --disabled-bg-color: #3B4455;\n",
              "      --disabled-fill-color: #666;\n",
              "  }\n",
              "\n",
              "  .colab-df-quickchart {\n",
              "    background-color: var(--bg-color);\n",
              "    border: none;\n",
              "    border-radius: 50%;\n",
              "    cursor: pointer;\n",
              "    display: none;\n",
              "    fill: var(--fill-color);\n",
              "    height: 32px;\n",
              "    padding: 0;\n",
              "    width: 32px;\n",
              "  }\n",
              "\n",
              "  .colab-df-quickchart:hover {\n",
              "    background-color: var(--hover-bg-color);\n",
              "    box-shadow: 0 1px 2px rgba(60, 64, 67, 0.3), 0 1px 3px 1px rgba(60, 64, 67, 0.15);\n",
              "    fill: var(--button-hover-fill-color);\n",
              "  }\n",
              "\n",
              "  .colab-df-quickchart-complete:disabled,\n",
              "  .colab-df-quickchart-complete:disabled:hover {\n",
              "    background-color: var(--disabled-bg-color);\n",
              "    fill: var(--disabled-fill-color);\n",
              "    box-shadow: none;\n",
              "  }\n",
              "\n",
              "  .colab-df-spinner {\n",
              "    border: 2px solid var(--fill-color);\n",
              "    border-color: transparent;\n",
              "    border-bottom-color: var(--fill-color);\n",
              "    animation:\n",
              "      spin 1s steps(1) infinite;\n",
              "  }\n",
              "\n",
              "  @keyframes spin {\n",
              "    0% {\n",
              "      border-color: transparent;\n",
              "      border-bottom-color: var(--fill-color);\n",
              "      border-left-color: var(--fill-color);\n",
              "    }\n",
              "    20% {\n",
              "      border-color: transparent;\n",
              "      border-left-color: var(--fill-color);\n",
              "      border-top-color: var(--fill-color);\n",
              "    }\n",
              "    30% {\n",
              "      border-color: transparent;\n",
              "      border-left-color: var(--fill-color);\n",
              "      border-top-color: var(--fill-color);\n",
              "      border-right-color: var(--fill-color);\n",
              "    }\n",
              "    40% {\n",
              "      border-color: transparent;\n",
              "      border-right-color: var(--fill-color);\n",
              "      border-top-color: var(--fill-color);\n",
              "    }\n",
              "    60% {\n",
              "      border-color: transparent;\n",
              "      border-right-color: var(--fill-color);\n",
              "    }\n",
              "    80% {\n",
              "      border-color: transparent;\n",
              "      border-right-color: var(--fill-color);\n",
              "      border-bottom-color: var(--fill-color);\n",
              "    }\n",
              "    90% {\n",
              "      border-color: transparent;\n",
              "      border-bottom-color: var(--fill-color);\n",
              "    }\n",
              "  }\n",
              "</style>\n",
              "\n",
              "      <script>\n",
              "        async function quickchart(key) {\n",
              "          const quickchartButtonEl =\n",
              "            document.querySelector('#' + key + ' button');\n",
              "          quickchartButtonEl.disabled = true;  // To prevent multiple clicks.\n",
              "          quickchartButtonEl.classList.add('colab-df-spinner');\n",
              "          try {\n",
              "            const charts = await google.colab.kernel.invokeFunction(\n",
              "                'suggestCharts', [key], {});\n",
              "          } catch (error) {\n",
              "            console.error('Error during call to suggestCharts:', error);\n",
              "          }\n",
              "          quickchartButtonEl.classList.remove('colab-df-spinner');\n",
              "          quickchartButtonEl.classList.add('colab-df-quickchart-complete');\n",
              "        }\n",
              "        (() => {\n",
              "          let quickchartButtonEl =\n",
              "            document.querySelector('#df-4f740524-371b-440a-9d58-53d54e9e4594 button');\n",
              "          quickchartButtonEl.style.display =\n",
              "            google.colab.kernel.accessAllowed ? 'block' : 'none';\n",
              "        })();\n",
              "      </script>\n",
              "    </div>\n",
              "\n",
              "    </div>\n",
              "  </div>\n"
            ],
            "application/vnd.google.colaboratory.intrinsic+json": {
              "type": "dataframe",
              "variable_name": "df",
              "summary": "{\n  \"name\": \"df\",\n  \"rows\": 87489,\n  \"fields\": [\n    {\n      \"column\": \"name\",\n      \"properties\": {\n        \"dtype\": \"string\",\n        \"num_unique_values\": 82767,\n        \"samples\": [\n          \"One Two Three\",\n          \"Fence: Striking Distance\",\n          \"50 Great Myths About Atheism\"\n        ],\n        \"semantic_type\": \"\",\n        \"description\": \"\"\n      }\n    },\n    {\n      \"column\": \"author\",\n      \"properties\": {\n        \"dtype\": \"string\",\n        \"num_unique_values\": 48374,\n        \"samples\": [\n          \"Writtenby:DariuszKortko\",\n          \"Writtenby:JohnnyRafter,JulieDean,DouglasSandberg\",\n          \"Writtenby:RobertHillman\"\n        ],\n        \"semantic_type\": \"\",\n        \"description\": \"\"\n      }\n    },\n    {\n      \"column\": \"narrator\",\n      \"properties\": {\n        \"dtype\": \"category\",\n        \"num_unique_values\": 29717,\n        \"samples\": [\n          \"Narratedby:CarolineSlaughter,LaurieCatherineWinkel,CaraReid\",\n          \"Narratedby:DonnyBarnes\",\n          \"Narratedby:GutoNejaim\"\n        ],\n        \"semantic_type\": \"\",\n        \"description\": \"\"\n      }\n    },\n    {\n      \"column\": \"time\",\n      \"properties\": {\n        \"dtype\": \"category\",\n        \"num_unique_values\": 2284,\n        \"samples\": [\n          \"5 hrs and 36 mins\",\n          \"25 hrs and 54 mins\",\n          \"36 hrs and 27 mins\"\n        ],\n        \"semantic_type\": \"\",\n        \"description\": \"\"\n      }\n    },\n    {\n      \"column\": \"releasedate\",\n      \"properties\": {\n        \"dtype\": \"object\",\n        \"num_unique_values\": 5058,\n        \"samples\": [\n          \"21-11-21\",\n          \"17-06-16\",\n          \"30-07-13\"\n        ],\n        \"semantic_type\": \"\",\n        \"description\": \"\"\n      }\n    },\n    {\n      \"column\": \"language\",\n      \"properties\": {\n        \"dtype\": \"category\",\n        \"num_unique_values\": 36,\n        \"samples\": [\n          \"lithuanian\",\n          \"polish\",\n          \"basque\"\n        ],\n        \"semantic_type\": \"\",\n        \"description\": \"\"\n      }\n    },\n    {\n      \"column\": \"stars\",\n      \"properties\": {\n        \"dtype\": \"category\",\n        \"num_unique_values\": 665,\n        \"samples\": [\n          \"4.5 out of 5 stars326 ratings\",\n          \"4.5 out of 5 stars1,807 ratings\",\n          \"4.5 out of 5 stars397 ratings\"\n        ],\n        \"semantic_type\": \"\",\n        \"description\": \"\"\n      }\n    },\n    {\n      \"column\": \"price\",\n      \"properties\": {\n        \"dtype\": \"category\",\n        \"num_unique_values\": 1011,\n        \"samples\": [\n          \"1,053.00\",\n          \"909.00\",\n          \"1,753.00\"\n        ],\n        \"semantic_type\": \"\",\n        \"description\": \"\"\n      }\n    }\n  ]\n}"
            }
          },
          "metadata": {},
          "execution_count": 8
        }
      ]
    },
    {
      "cell_type": "code",
      "source": [
        "# convert the \"releasedate\" col to datetime object\n",
        "df[\"releasedate\"] = pd.to_datetime(df[\"releasedate\"]).copy()\n",
        "# remove the value \"free\" from the col price. This will automatically\n",
        "# convert to the float values.\n",
        "df[\"price\"] = df[\"price\"].replace(\"Free\", 0).copy()"
      ],
      "metadata": {
        "id": "J-KHD8DpDU0v",
        "outputId": "5f79fd5d-0a01-4730-c601-02200d2f1a35",
        "colab": {
          "base_uri": "https://localhost:8080/"
        }
      },
      "execution_count": 9,
      "outputs": [
        {
          "output_type": "stream",
          "name": "stderr",
          "text": [
            "/tmp/ipython-input-2371264084.py:2: UserWarning: Could not infer format, so each element will be parsed individually, falling back to `dateutil`. To ensure parsing is consistent and as-expected, please specify a format.\n",
            "  df[\"releasedate\"] = pd.to_datetime(df[\"releasedate\"]).copy()\n"
          ]
        }
      ]
    },
    {
      "cell_type": "code",
      "source": [
        "# now check again the dtypes\n",
        "df.info()"
      ],
      "metadata": {
        "colab": {
          "base_uri": "https://localhost:8080/"
        },
        "id": "jERFcDaoHsN-",
        "outputId": "6a76a352-d269-49aa-8064-ad57fd032c48"
      },
      "execution_count": 10,
      "outputs": [
        {
          "output_type": "stream",
          "name": "stdout",
          "text": [
            "<class 'pandas.core.frame.DataFrame'>\n",
            "RangeIndex: 87489 entries, 0 to 87488\n",
            "Data columns (total 8 columns):\n",
            " #   Column       Non-Null Count  Dtype         \n",
            "---  ------       --------------  -----         \n",
            " 0   name         87489 non-null  object        \n",
            " 1   author       87489 non-null  object        \n",
            " 2   narrator     87489 non-null  object        \n",
            " 3   time         87489 non-null  object        \n",
            " 4   releasedate  87489 non-null  datetime64[ns]\n",
            " 5   language     87489 non-null  object        \n",
            " 6   stars        87489 non-null  object        \n",
            " 7   price        87489 non-null  object        \n",
            "dtypes: datetime64[ns](1), object(7)\n",
            "memory usage: 5.3+ MB\n"
          ]
        }
      ]
    },
    {
      "cell_type": "code",
      "source": [
        "def find_total_ratings(text):\n",
        "    # if NaN, then return as it is\n",
        "    if pd.isna(text):\n",
        "        return text\n",
        "\n",
        "    # create the pattern to find the total ratings\n",
        "    tol_rattings_pattern = re.compile(r\"[\\d]+\\sratings\")\n",
        "    # get the result\n",
        "    result = re.findall(tol_rattings_pattern, text)\n",
        "\n",
        "    try:\n",
        "        # if we find the total ratings, then convert to int and return it\n",
        "        if len(result) > 0:\n",
        "            return int(result[0].split(\" \")[0])\n",
        "        # if it is the \"Not rated yet\", return 0\n",
        "        elif \"Not rated yet\":\n",
        "            return 0\n",
        "        # else return the value as it is\n",
        "        else:\n",
        "            return text\n",
        "    # if we got any error, also return the value as it is\n",
        "    except Exception as e:\n",
        "        print(e)\n",
        "        return text"
      ],
      "metadata": {
        "id": "rCI7Bo8XJJG_"
      },
      "execution_count": 11,
      "outputs": []
    },
    {
      "cell_type": "code",
      "source": [
        "# find out the total counted ratings\n",
        "df[\"total_ratings\"] = df[\"stars\"].apply(lambda x: find_total_ratings(x))\n",
        "df[\"avg_stars\"]     = df[\"stars\"].apply(lambda x: float(x.split(\" \")[0]) if x != \"Not rated yet\" else 0)\n",
        "# now drop the \"stars\" column\n",
        "df = df.drop(columns = [\"stars\"]).copy()"
      ],
      "metadata": {
        "id": "1vg_XE2PJwI-"
      },
      "execution_count": 12,
      "outputs": []
    },
    {
      "cell_type": "code",
      "source": [
        "df.info()"
      ],
      "metadata": {
        "colab": {
          "base_uri": "https://localhost:8080/"
        },
        "id": "kvbFGBznQ9ex",
        "outputId": "a769fe77-7edb-42ab-e31a-51d0a95b0e2c"
      },
      "execution_count": null,
      "outputs": [
        {
          "output_type": "stream",
          "name": "stdout",
          "text": [
            "<class 'pandas.core.frame.DataFrame'>\n",
            "RangeIndex: 87489 entries, 0 to 87488\n",
            "Data columns (total 9 columns):\n",
            " #   Column         Non-Null Count  Dtype         \n",
            "---  ------         --------------  -----         \n",
            " 0   name           87489 non-null  object        \n",
            " 1   author         87489 non-null  object        \n",
            " 2   narrator       87489 non-null  object        \n",
            " 3   time           87489 non-null  object        \n",
            " 4   releasedate    87489 non-null  datetime64[ns]\n",
            " 5   language       87489 non-null  object        \n",
            " 6   price          87489 non-null  float64       \n",
            " 7   total_ratings  87489 non-null  int64         \n",
            " 8   avg_stars      87489 non-null  float64       \n",
            "dtypes: datetime64[ns](1), float64(2), int64(1), object(5)\n",
            "memory usage: 6.0+ MB\n"
          ]
        }
      ]
    },
    {
      "cell_type": "code",
      "source": [
        "# convert the \"language\" col to titlecase\n",
        "df[\"language\"] = df[\"language\"].str.title().copy()"
      ],
      "metadata": {
        "id": "6QpMpXbYSK0w"
      },
      "execution_count": 13,
      "outputs": []
    },
    {
      "cell_type": "code",
      "source": [
        "def get_total_time(text):\n",
        "    hrs = 0\n",
        "    mins = 0\n",
        "    # extract the total hours\n",
        "    if \"hrs\" in text:\n",
        "        hrs = int(text.split(\"hrs\")[0].strip())\n",
        "    # extract the total minutes\n",
        "    if \"mins\" in text:\n",
        "        is_mins = text.split(\"mins\")[0].split(\" \")\n",
        "        # if the text is combination of hours and minutes, then will get the more elements\n",
        "        if len(is_mins) > 2:\n",
        "            mins = is_mins[-2]\n",
        "        # if the text contains only minutes, e.g. \"22 mins\", then will get 2 length list\n",
        "        else:\n",
        "            mins = is_mins[0]\n",
        "        mins = int(mins.strip())\n",
        "\n",
        "    # calculate total minutes and return that\n",
        "    return hrs * 60 + mins"
      ],
      "metadata": {
        "id": "g2mglUzaUdfR"
      },
      "execution_count": 14,
      "outputs": []
    },
    {
      "cell_type": "code",
      "source": [
        "# get the total time in minutes\n",
        "df[\"time\"] = df[\"time\"].apply(lambda x: get_total_time(x)).copy()"
      ],
      "metadata": {
        "id": "HtBxiGIsWRUZ"
      },
      "execution_count": 15,
      "outputs": []
    },
    {
      "cell_type": "code",
      "source": [
        "# next we will remove the strange characters from the \"name\", \"author\" and \"narrator\" cols.\n",
        "# When we will do the operation, some values of \"name\" col will become to NaN. So first extract\n",
        "# those records which will become to NaN. After removing the strange values, we will replace\n",
        "# those newly created NaN values with the old ones\n",
        "nan_created_values = df[df[\"name\"].str.encode('ascii', 'ignore').isnull()]"
      ],
      "metadata": {
        "id": "IBvbTQEf_b8S"
      },
      "execution_count": 16,
      "outputs": []
    },
    {
      "cell_type": "code",
      "source": [
        "# some \"narrator\" values are completly packed with strange values like this example.\n",
        "# So, while removing this strange values, the calues will convert to empty strings\n",
        "df[\"narrator\"][87192]"
      ],
      "metadata": {
        "colab": {
          "base_uri": "https://localhost:8080/",
          "height": 35
        },
        "id": "tfQJgDCiNso3",
        "outputId": "64c6b2ff-4f2a-430b-cd34-c09888d7eedd"
      },
      "execution_count": 17,
      "outputs": [
        {
          "output_type": "execute_result",
          "data": {
            "text/plain": [
              "'Narratedby:小野田英一'"
            ],
            "application/vnd.google.colaboratory.intrinsic+json": {
              "type": "string"
            }
          },
          "metadata": {},
          "execution_count": 17
        }
      ]
    },
    {
      "cell_type": "code",
      "source": [
        "# Now, remove the starnge parts from the \"name\", \"author\" and \"narrator\" columns\n",
        "df[\"name\"]     = df[\"name\"].str.encode('ascii', 'ignore').str.decode('ascii').copy()\n",
        "df[\"author\"]   = df[\"author\"].str.encode('ascii', 'ignore').str.decode('ascii').copy()\n",
        "df[\"narrator\"] = df[\"narrator\"].str.encode('ascii', 'ignore').str.decode('ascii').copy()"
      ],
      "metadata": {
        "id": "51j8yAiGs5aW"
      },
      "execution_count": 18,
      "outputs": []
    },
    {
      "cell_type": "code",
      "source": [
        "df[\"narrator\"][87192]"
      ],
      "metadata": {
        "colab": {
          "base_uri": "https://localhost:8080/",
          "height": 35
        },
        "id": "_AQktPtWNtRc",
        "outputId": "8e9c2aa7-6969-4c26-91d4-45108ede0ea0"
      },
      "execution_count": 19,
      "outputs": [
        {
          "output_type": "execute_result",
          "data": {
            "text/plain": [
              "'Narratedby:'"
            ],
            "application/vnd.google.colaboratory.intrinsic+json": {
              "type": "string"
            }
          },
          "metadata": {},
          "execution_count": 19
        }
      ]
    },
    {
      "cell_type": "code",
      "source": [
        "df.isnull().sum()"
      ],
      "metadata": {
        "colab": {
          "base_uri": "https://localhost:8080/"
        },
        "id": "USM24CI3_Ima",
        "outputId": "cac6234f-46c0-42c2-d011-cba89eb5eabf"
      },
      "execution_count": null,
      "outputs": [
        {
          "output_type": "execute_result",
          "data": {
            "text/plain": [
              "name             53\n",
              "author            0\n",
              "narrator          0\n",
              "time              0\n",
              "releasedate       0\n",
              "language          0\n",
              "price             0\n",
              "total_ratings     0\n",
              "avg_stars         0\n",
              "dtype: int64"
            ]
          },
          "metadata": {},
          "execution_count": 16
        }
      ]
    },
    {
      "cell_type": "code",
      "source": [
        "# now remove the NaN values of the \"name\" column with the old ones\n",
        "for index in nan_created_values.index:\n",
        "    df[\"name\"][index] = nan_created_values[\"name\"][index]"
      ],
      "metadata": {
        "id": "K9cLMI4lBMNj"
      },
      "execution_count": 20,
      "outputs": []
    },
    {
      "cell_type": "code",
      "source": [
        "df.isnull().sum()"
      ],
      "metadata": {
        "colab": {
          "base_uri": "https://localhost:8080/",
          "height": 366
        },
        "id": "6OFT6eyWBtmu",
        "outputId": "0eed9fdd-dcab-42db-bd32-54a7aae40f0b"
      },
      "execution_count": 21,
      "outputs": [
        {
          "output_type": "execute_result",
          "data": {
            "text/plain": [
              "name             0\n",
              "author           0\n",
              "narrator         0\n",
              "time             0\n",
              "releasedate      0\n",
              "language         0\n",
              "price            0\n",
              "total_ratings    0\n",
              "avg_stars        0\n",
              "dtype: int64"
            ],
            "text/html": [
              "<div>\n",
              "<style scoped>\n",
              "    .dataframe tbody tr th:only-of-type {\n",
              "        vertical-align: middle;\n",
              "    }\n",
              "\n",
              "    .dataframe tbody tr th {\n",
              "        vertical-align: top;\n",
              "    }\n",
              "\n",
              "    .dataframe thead th {\n",
              "        text-align: right;\n",
              "    }\n",
              "</style>\n",
              "<table border=\"1\" class=\"dataframe\">\n",
              "  <thead>\n",
              "    <tr style=\"text-align: right;\">\n",
              "      <th></th>\n",
              "      <th>0</th>\n",
              "    </tr>\n",
              "  </thead>\n",
              "  <tbody>\n",
              "    <tr>\n",
              "      <th>name</th>\n",
              "      <td>0</td>\n",
              "    </tr>\n",
              "    <tr>\n",
              "      <th>author</th>\n",
              "      <td>0</td>\n",
              "    </tr>\n",
              "    <tr>\n",
              "      <th>narrator</th>\n",
              "      <td>0</td>\n",
              "    </tr>\n",
              "    <tr>\n",
              "      <th>time</th>\n",
              "      <td>0</td>\n",
              "    </tr>\n",
              "    <tr>\n",
              "      <th>releasedate</th>\n",
              "      <td>0</td>\n",
              "    </tr>\n",
              "    <tr>\n",
              "      <th>language</th>\n",
              "      <td>0</td>\n",
              "    </tr>\n",
              "    <tr>\n",
              "      <th>price</th>\n",
              "      <td>0</td>\n",
              "    </tr>\n",
              "    <tr>\n",
              "      <th>total_ratings</th>\n",
              "      <td>0</td>\n",
              "    </tr>\n",
              "    <tr>\n",
              "      <th>avg_stars</th>\n",
              "      <td>0</td>\n",
              "    </tr>\n",
              "  </tbody>\n",
              "</table>\n",
              "</div><br><label><b>dtype:</b> int64</label>"
            ]
          },
          "metadata": {},
          "execution_count": 21
        }
      ]
    },
    {
      "cell_type": "code",
      "source": [
        "# again NaN values will be created when you will gp to remove the versions from the \"name\" col.\n",
        "# So, again will be same strategy, first will store those records which will become to NaN.\n",
        "# After the operation, we will replace those NaN values with the old ones\n",
        "book_version_pattern = re.compile(r\"(\\s#?\\d+\\s?(&|and)?\\s?#?(\\d+)?)|(:?,?\\sBooks?\\s\\d+\\s?-?(\\d+)?)\")\n",
        "nan_books_version = df[df[\"name\"].str.replace(book_version_pattern, \"\",regex=True).isnull()]"
      ],
      "metadata": {
        "id": "9QWHHlT1DaJs"
      },
      "execution_count": 24,
      "outputs": []
    },
    {
      "cell_type": "code",
      "source": [
        "# remove the versions from the \"name\"\n",
        "book_version_pattern = re.compile(r\"(\\s#?\\d+\\s?(&|and)?\\s?#?(\\d+)?)|(:?,?\\sBooks?\\s\\d+\\s?-?(\\d+)?)\")\n",
        "df[\"name\"] = df[\"name\"].str.replace(book_version_pattern, \"\",regex=True).copy()"
      ],
      "metadata": {
        "id": "9hRGZjmz1xeZ"
      },
      "execution_count": 25,
      "outputs": []
    },
    {
      "cell_type": "code",
      "source": [
        "df.isnull().sum()"
      ],
      "metadata": {
        "colab": {
          "base_uri": "https://localhost:8080/",
          "height": 366
        },
        "id": "fhs3_tOVDExL",
        "outputId": "36f51a19-1d5e-4051-ac2e-7fab4e63e669"
      },
      "execution_count": 26,
      "outputs": [
        {
          "output_type": "execute_result",
          "data": {
            "text/plain": [
              "name             0\n",
              "author           0\n",
              "narrator         0\n",
              "time             0\n",
              "releasedate      0\n",
              "language         0\n",
              "price            0\n",
              "total_ratings    0\n",
              "avg_stars        0\n",
              "dtype: int64"
            ],
            "text/html": [
              "<div>\n",
              "<style scoped>\n",
              "    .dataframe tbody tr th:only-of-type {\n",
              "        vertical-align: middle;\n",
              "    }\n",
              "\n",
              "    .dataframe tbody tr th {\n",
              "        vertical-align: top;\n",
              "    }\n",
              "\n",
              "    .dataframe thead th {\n",
              "        text-align: right;\n",
              "    }\n",
              "</style>\n",
              "<table border=\"1\" class=\"dataframe\">\n",
              "  <thead>\n",
              "    <tr style=\"text-align: right;\">\n",
              "      <th></th>\n",
              "      <th>0</th>\n",
              "    </tr>\n",
              "  </thead>\n",
              "  <tbody>\n",
              "    <tr>\n",
              "      <th>name</th>\n",
              "      <td>0</td>\n",
              "    </tr>\n",
              "    <tr>\n",
              "      <th>author</th>\n",
              "      <td>0</td>\n",
              "    </tr>\n",
              "    <tr>\n",
              "      <th>narrator</th>\n",
              "      <td>0</td>\n",
              "    </tr>\n",
              "    <tr>\n",
              "      <th>time</th>\n",
              "      <td>0</td>\n",
              "    </tr>\n",
              "    <tr>\n",
              "      <th>releasedate</th>\n",
              "      <td>0</td>\n",
              "    </tr>\n",
              "    <tr>\n",
              "      <th>language</th>\n",
              "      <td>0</td>\n",
              "    </tr>\n",
              "    <tr>\n",
              "      <th>price</th>\n",
              "      <td>0</td>\n",
              "    </tr>\n",
              "    <tr>\n",
              "      <th>total_ratings</th>\n",
              "      <td>0</td>\n",
              "    </tr>\n",
              "    <tr>\n",
              "      <th>avg_stars</th>\n",
              "      <td>0</td>\n",
              "    </tr>\n",
              "  </tbody>\n",
              "</table>\n",
              "</div><br><label><b>dtype:</b> int64</label>"
            ]
          },
          "metadata": {},
          "execution_count": 26
        }
      ]
    },
    {
      "cell_type": "code",
      "source": [
        "for index in nan_books_version.index:\n",
        "    df[\"name\"][index] = nan_books_version[\"name\"][index]"
      ],
      "metadata": {
        "id": "WYQwXarVEhPm"
      },
      "execution_count": 28,
      "outputs": []
    },
    {
      "cell_type": "code",
      "source": [
        "df.isnull().sum()"
      ],
      "metadata": {
        "colab": {
          "base_uri": "https://localhost:8080/",
          "height": 366
        },
        "id": "FRaL5s9ZFGQy",
        "outputId": "1b68db09-4655-479a-e993-66c09a733df4"
      },
      "execution_count": 29,
      "outputs": [
        {
          "output_type": "execute_result",
          "data": {
            "text/plain": [
              "name             0\n",
              "author           0\n",
              "narrator         0\n",
              "time             0\n",
              "releasedate      0\n",
              "language         0\n",
              "price            0\n",
              "total_ratings    0\n",
              "avg_stars        0\n",
              "dtype: int64"
            ],
            "text/html": [
              "<div>\n",
              "<style scoped>\n",
              "    .dataframe tbody tr th:only-of-type {\n",
              "        vertical-align: middle;\n",
              "    }\n",
              "\n",
              "    .dataframe tbody tr th {\n",
              "        vertical-align: top;\n",
              "    }\n",
              "\n",
              "    .dataframe thead th {\n",
              "        text-align: right;\n",
              "    }\n",
              "</style>\n",
              "<table border=\"1\" class=\"dataframe\">\n",
              "  <thead>\n",
              "    <tr style=\"text-align: right;\">\n",
              "      <th></th>\n",
              "      <th>0</th>\n",
              "    </tr>\n",
              "  </thead>\n",
              "  <tbody>\n",
              "    <tr>\n",
              "      <th>name</th>\n",
              "      <td>0</td>\n",
              "    </tr>\n",
              "    <tr>\n",
              "      <th>author</th>\n",
              "      <td>0</td>\n",
              "    </tr>\n",
              "    <tr>\n",
              "      <th>narrator</th>\n",
              "      <td>0</td>\n",
              "    </tr>\n",
              "    <tr>\n",
              "      <th>time</th>\n",
              "      <td>0</td>\n",
              "    </tr>\n",
              "    <tr>\n",
              "      <th>releasedate</th>\n",
              "      <td>0</td>\n",
              "    </tr>\n",
              "    <tr>\n",
              "      <th>language</th>\n",
              "      <td>0</td>\n",
              "    </tr>\n",
              "    <tr>\n",
              "      <th>price</th>\n",
              "      <td>0</td>\n",
              "    </tr>\n",
              "    <tr>\n",
              "      <th>total_ratings</th>\n",
              "      <td>0</td>\n",
              "    </tr>\n",
              "    <tr>\n",
              "      <th>avg_stars</th>\n",
              "      <td>0</td>\n",
              "    </tr>\n",
              "  </tbody>\n",
              "</table>\n",
              "</div><br><label><b>dtype:</b> int64</label>"
            ]
          },
          "metadata": {},
          "execution_count": 29
        }
      ]
    },
    {
      "cell_type": "code",
      "source": [
        "# remove prefix \"Writtenby:\" & \"Narratedby:\" from \"author\" & \"narrator\" columns\n",
        "df[\"narrator\"] = df[\"narrator\"].str.replace(\"Narratedby:\", \"\").copy()\n",
        "df[\"author\"]   = df[\"author\"].str.replace(\"Writtenby:\", \"\").copy()"
      ],
      "metadata": {
        "id": "tbV8F9A_5dex"
      },
      "execution_count": 30,
      "outputs": []
    },
    {
      "cell_type": "code",
      "source": [
        "# replace the \"uncredited\" from the \"narrator\" col with NaN value\n",
        "df[\"narrator\"] = df[\"narrator\"].replace(\"uncredited\", np.nan).copy()"
      ],
      "metadata": {
        "id": "VhfZ5KS-9CPC"
      },
      "execution_count": 32,
      "outputs": []
    },
    {
      "cell_type": "code",
      "source": [
        "# split those values which have 2 or more author or narrator\n",
        "df[\"author\"] = df[\"author\"].apply(lambda x: x.split(\",\") if \",\" in x else [x]).copy()\n",
        "df[\"narrator\"] = df[\"narrator\"].apply(lambda x: x if pd.isna(x) else x.split(\",\") if \",\" in x else [x]).copy()"
      ],
      "metadata": {
        "id": "QfbKXHuA6KVq"
      },
      "execution_count": null,
      "outputs": []
    },
    {
      "cell_type": "code",
      "source": [
        "df.isnull().sum()"
      ],
      "metadata": {
        "colab": {
          "base_uri": "https://localhost:8080/"
        },
        "id": "rZa7rxEv6jX5",
        "outputId": "5ec224c7-947e-4eea-d658-5698342c8eff"
      },
      "execution_count": null,
      "outputs": [
        {
          "output_type": "execute_result",
          "data": {
            "text/plain": [
              "name               0\n",
              "author             0\n",
              "narrator         326\n",
              "time               0\n",
              "releasedate        0\n",
              "language           0\n",
              "price              0\n",
              "total_ratings      0\n",
              "avg_stars          0\n",
              "dtype: int64"
            ]
          },
          "metadata": {},
          "execution_count": 27
        }
      ]
    },
    {
      "cell_type": "code",
      "source": [
        "# remove the more informations from the \"author\" col because most of the values\n",
        "# has no such info. Also, while modifying this col before, some blank strings\n",
        "# (e.g. record no. 77) created. That strings will be removed here. Also, here\n",
        "# will separate the first name and the last names. Previously those are not\n",
        "# separated with a white space.\n",
        "\n",
        "def separate_first_last_name(text):\n",
        "    # create the regex pattern\n",
        "    pattern = re.compile(r\"[A-Z]+[a-z]+\")\n",
        "    # join the first & last name with a white space and return it\n",
        "    return \" \".join(re.findall(pattern, text))\n",
        "\n",
        "def remove_more_info(text_list: list):\n",
        "    if type(text_list) != list and pd.isna(text_list):\n",
        "        return text_list\n",
        "\n",
        "    # create the re pattern to remove the more info\n",
        "    pattern = re.compile(r\"-\\w+\")\n",
        "    result = []\n",
        "\n",
        "    # loop through the each values\n",
        "    for item in text_list:\n",
        "        # remove the empty string\n",
        "        if len(item) != 0:\n",
        "            # remove the more info\n",
        "            re_result = re.sub(pattern, \"\", item)\n",
        "            # separate the first and the last name\n",
        "            result.append(separate_first_last_name(re_result))\n",
        "\n",
        "    # if the result list is empty, then return NaN or return as it is\n",
        "    return np.nan if len(result) <= 0 else result"
      ],
      "metadata": {
        "id": "bG3zQtAWH8dU"
      },
      "execution_count": 33,
      "outputs": []
    },
    {
      "cell_type": "code",
      "source": [
        "df[\"author\"]   = df[\"author\"].apply(lambda x: remove_more_info(x)).copy()\n",
        "df[\"narrator\"] = df[\"narrator\"].apply(lambda x: remove_more_info(x)).copy()"
      ],
      "metadata": {
        "id": "QgB7DMcRMNf9"
      },
      "execution_count": null,
      "outputs": []
    },
    {
      "cell_type": "code",
      "source": [
        "df.head()"
      ],
      "metadata": {
        "colab": {
          "base_uri": "https://localhost:8080/",
          "height": 206
        },
        "id": "gzDMYSHJPbwT",
        "outputId": "663da242-1d8c-41d0-a22e-bdf37c94222b"
      },
      "execution_count": null,
      "outputs": [
        {
          "output_type": "execute_result",
          "data": {
            "text/plain": [
              "                                 name              author           narrator  \\\n",
              "0                    Geronimo Stilton  [Geronimo Stilton]      [Bill Lobely]   \n",
              "1                    The Burning Maze      [Rick Riordan]   [Robbie Daymond]   \n",
              "2                        The Deep End       [Jeff Kinney]      [Dan Russell]   \n",
              "3                Daughter of the Deep      [Rick Riordan]  [Soneela Nankani]   \n",
              "4  The Lightning Thief: Percy Jackson      [Rick Riordan]  [Jesse Bernstein]   \n",
              "\n",
              "   time releasedate language  price  total_ratings  avg_stars  \n",
              "0   140  2008-04-08  English  468.0             34        5.0  \n",
              "1   788  2018-01-05  English  820.0             41        4.5  \n",
              "2   123  2020-06-11  English  410.0             38        4.5  \n",
              "3   676  2021-05-10  English  615.0             12        4.5  \n",
              "4   600  2010-01-13  English  820.0            181        4.5  "
            ],
            "text/html": [
              "\n",
              "  <div id=\"df-befecee1-fb27-47ff-afda-bd8662c25fac\">\n",
              "    <div class=\"colab-df-container\">\n",
              "      <div>\n",
              "<style scoped>\n",
              "    .dataframe tbody tr th:only-of-type {\n",
              "        vertical-align: middle;\n",
              "    }\n",
              "\n",
              "    .dataframe tbody tr th {\n",
              "        vertical-align: top;\n",
              "    }\n",
              "\n",
              "    .dataframe thead th {\n",
              "        text-align: right;\n",
              "    }\n",
              "</style>\n",
              "<table border=\"1\" class=\"dataframe\">\n",
              "  <thead>\n",
              "    <tr style=\"text-align: right;\">\n",
              "      <th></th>\n",
              "      <th>name</th>\n",
              "      <th>author</th>\n",
              "      <th>narrator</th>\n",
              "      <th>time</th>\n",
              "      <th>releasedate</th>\n",
              "      <th>language</th>\n",
              "      <th>price</th>\n",
              "      <th>total_ratings</th>\n",
              "      <th>avg_stars</th>\n",
              "    </tr>\n",
              "  </thead>\n",
              "  <tbody>\n",
              "    <tr>\n",
              "      <th>0</th>\n",
              "      <td>Geronimo Stilton</td>\n",
              "      <td>[Geronimo Stilton]</td>\n",
              "      <td>[Bill Lobely]</td>\n",
              "      <td>140</td>\n",
              "      <td>2008-04-08</td>\n",
              "      <td>English</td>\n",
              "      <td>468.0</td>\n",
              "      <td>34</td>\n",
              "      <td>5.0</td>\n",
              "    </tr>\n",
              "    <tr>\n",
              "      <th>1</th>\n",
              "      <td>The Burning Maze</td>\n",
              "      <td>[Rick Riordan]</td>\n",
              "      <td>[Robbie Daymond]</td>\n",
              "      <td>788</td>\n",
              "      <td>2018-01-05</td>\n",
              "      <td>English</td>\n",
              "      <td>820.0</td>\n",
              "      <td>41</td>\n",
              "      <td>4.5</td>\n",
              "    </tr>\n",
              "    <tr>\n",
              "      <th>2</th>\n",
              "      <td>The Deep End</td>\n",
              "      <td>[Jeff Kinney]</td>\n",
              "      <td>[Dan Russell]</td>\n",
              "      <td>123</td>\n",
              "      <td>2020-06-11</td>\n",
              "      <td>English</td>\n",
              "      <td>410.0</td>\n",
              "      <td>38</td>\n",
              "      <td>4.5</td>\n",
              "    </tr>\n",
              "    <tr>\n",
              "      <th>3</th>\n",
              "      <td>Daughter of the Deep</td>\n",
              "      <td>[Rick Riordan]</td>\n",
              "      <td>[Soneela Nankani]</td>\n",
              "      <td>676</td>\n",
              "      <td>2021-05-10</td>\n",
              "      <td>English</td>\n",
              "      <td>615.0</td>\n",
              "      <td>12</td>\n",
              "      <td>4.5</td>\n",
              "    </tr>\n",
              "    <tr>\n",
              "      <th>4</th>\n",
              "      <td>The Lightning Thief: Percy Jackson</td>\n",
              "      <td>[Rick Riordan]</td>\n",
              "      <td>[Jesse Bernstein]</td>\n",
              "      <td>600</td>\n",
              "      <td>2010-01-13</td>\n",
              "      <td>English</td>\n",
              "      <td>820.0</td>\n",
              "      <td>181</td>\n",
              "      <td>4.5</td>\n",
              "    </tr>\n",
              "  </tbody>\n",
              "</table>\n",
              "</div>\n",
              "      <button class=\"colab-df-convert\" onclick=\"convertToInteractive('df-befecee1-fb27-47ff-afda-bd8662c25fac')\"\n",
              "              title=\"Convert this dataframe to an interactive table.\"\n",
              "              style=\"display:none;\">\n",
              "        \n",
              "  <svg xmlns=\"http://www.w3.org/2000/svg\" height=\"24px\"viewBox=\"0 0 24 24\"\n",
              "       width=\"24px\">\n",
              "    <path d=\"M0 0h24v24H0V0z\" fill=\"none\"/>\n",
              "    <path d=\"M18.56 5.44l.94 2.06.94-2.06 2.06-.94-2.06-.94-.94-2.06-.94 2.06-2.06.94zm-11 1L8.5 8.5l.94-2.06 2.06-.94-2.06-.94L8.5 2.5l-.94 2.06-2.06.94zm10 10l.94 2.06.94-2.06 2.06-.94-2.06-.94-.94-2.06-.94 2.06-2.06.94z\"/><path d=\"M17.41 7.96l-1.37-1.37c-.4-.4-.92-.59-1.43-.59-.52 0-1.04.2-1.43.59L10.3 9.45l-7.72 7.72c-.78.78-.78 2.05 0 2.83L4 21.41c.39.39.9.59 1.41.59.51 0 1.02-.2 1.41-.59l7.78-7.78 2.81-2.81c.8-.78.8-2.07 0-2.86zM5.41 20L4 18.59l7.72-7.72 1.47 1.35L5.41 20z\"/>\n",
              "  </svg>\n",
              "      </button>\n",
              "      \n",
              "  <style>\n",
              "    .colab-df-container {\n",
              "      display:flex;\n",
              "      flex-wrap:wrap;\n",
              "      gap: 12px;\n",
              "    }\n",
              "\n",
              "    .colab-df-convert {\n",
              "      background-color: #E8F0FE;\n",
              "      border: none;\n",
              "      border-radius: 50%;\n",
              "      cursor: pointer;\n",
              "      display: none;\n",
              "      fill: #1967D2;\n",
              "      height: 32px;\n",
              "      padding: 0 0 0 0;\n",
              "      width: 32px;\n",
              "    }\n",
              "\n",
              "    .colab-df-convert:hover {\n",
              "      background-color: #E2EBFA;\n",
              "      box-shadow: 0px 1px 2px rgba(60, 64, 67, 0.3), 0px 1px 3px 1px rgba(60, 64, 67, 0.15);\n",
              "      fill: #174EA6;\n",
              "    }\n",
              "\n",
              "    [theme=dark] .colab-df-convert {\n",
              "      background-color: #3B4455;\n",
              "      fill: #D2E3FC;\n",
              "    }\n",
              "\n",
              "    [theme=dark] .colab-df-convert:hover {\n",
              "      background-color: #434B5C;\n",
              "      box-shadow: 0px 1px 3px 1px rgba(0, 0, 0, 0.15);\n",
              "      filter: drop-shadow(0px 1px 2px rgba(0, 0, 0, 0.3));\n",
              "      fill: #FFFFFF;\n",
              "    }\n",
              "  </style>\n",
              "\n",
              "      <script>\n",
              "        const buttonEl =\n",
              "          document.querySelector('#df-befecee1-fb27-47ff-afda-bd8662c25fac button.colab-df-convert');\n",
              "        buttonEl.style.display =\n",
              "          google.colab.kernel.accessAllowed ? 'block' : 'none';\n",
              "\n",
              "        async function convertToInteractive(key) {\n",
              "          const element = document.querySelector('#df-befecee1-fb27-47ff-afda-bd8662c25fac');\n",
              "          const dataTable =\n",
              "            await google.colab.kernel.invokeFunction('convertToInteractive',\n",
              "                                                     [key], {});\n",
              "          if (!dataTable) return;\n",
              "\n",
              "          const docLinkHtml = 'Like what you see? Visit the ' +\n",
              "            '<a target=\"_blank\" href=https://colab.research.google.com/notebooks/data_table.ipynb>data table notebook</a>'\n",
              "            + ' to learn more about interactive tables.';\n",
              "          element.innerHTML = '';\n",
              "          dataTable['output_type'] = 'display_data';\n",
              "          await google.colab.output.renderOutput(dataTable, element);\n",
              "          const docLink = document.createElement('div');\n",
              "          docLink.innerHTML = docLinkHtml;\n",
              "          element.appendChild(docLink);\n",
              "        }\n",
              "      </script>\n",
              "    </div>\n",
              "  </div>\n",
              "  "
            ]
          },
          "metadata": {},
          "execution_count": 30
        }
      ]
    },
    {
      "cell_type": "code",
      "source": [
        "df.info()"
      ],
      "metadata": {
        "colab": {
          "base_uri": "https://localhost:8080/"
        },
        "id": "XdNgE8s_R10d",
        "outputId": "43117384-e2b2-44a3-9307-711e682add39"
      },
      "execution_count": null,
      "outputs": [
        {
          "output_type": "stream",
          "name": "stdout",
          "text": [
            "<class 'pandas.core.frame.DataFrame'>\n",
            "RangeIndex: 87489 entries, 0 to 87488\n",
            "Data columns (total 9 columns):\n",
            " #   Column         Non-Null Count  Dtype         \n",
            "---  ------         --------------  -----         \n",
            " 0   name           87489 non-null  object        \n",
            " 1   author         84180 non-null  object        \n",
            " 2   narrator       83421 non-null  object        \n",
            " 3   time           87489 non-null  int64         \n",
            " 4   releasedate    87489 non-null  datetime64[ns]\n",
            " 5   language       87489 non-null  object        \n",
            " 6   price          87489 non-null  float64       \n",
            " 7   total_ratings  87489 non-null  int64         \n",
            " 8   avg_stars      87489 non-null  float64       \n",
            "dtypes: datetime64[ns](1), float64(2), int64(2), object(4)\n",
            "memory usage: 6.0+ MB\n"
          ]
        }
      ]
    },
    {
      "cell_type": "code",
      "source": [
        "# ok, for now it is done. For further use or analysis, you have to save the cleaned\n",
        "# dataframe. We will not use the csv format to save because it takes more disk\n",
        "# space and also the csv file can't retain the dtypes of the features of your\n",
        "# dataframe. So you can store this file in one of these file formats: pickle,\n",
        "# feather and parquet. Here I am using the pickle format.\n",
        "df.to_pickle(\"audiable_cleaned.pickle\")"
      ],
      "metadata": {
        "id": "zPvUZK1ER5tc"
      },
      "execution_count": 34,
      "outputs": []
    },
    {
      "cell_type": "code",
      "source": [
        "# below syntax is to read the pickle file in pandas.\n",
        "pd.read_pickle(\"audiable_cleaned.pickle\").head()"
      ],
      "metadata": {
        "colab": {
          "base_uri": "https://localhost:8080/",
          "height": 206
        },
        "id": "QUK5Hb6QToGd",
        "outputId": "67cba548-8147-43c8-f947-f9c7817913f2"
      },
      "execution_count": 35,
      "outputs": [
        {
          "output_type": "execute_result",
          "data": {
            "text/plain": [
              "                                 name           author        narrator  time  \\\n",
              "0                    Geronimo Stilton  GeronimoStilton      BillLobely   140   \n",
              "1                    The Burning Maze      RickRiordan   RobbieDaymond   788   \n",
              "2                        The Deep End       JeffKinney      DanRussell   123   \n",
              "3                Daughter of the Deep      RickRiordan  SoneelaNankani   676   \n",
              "4  The Lightning Thief: Percy Jackson      RickRiordan  JesseBernstein   600   \n",
              "\n",
              "  releasedate language   price  total_ratings  avg_stars  \n",
              "0  2008-04-08  English  468.00             34        5.0  \n",
              "1  2018-01-05  English  820.00             41        4.5  \n",
              "2  2020-06-11  English  410.00             38        4.5  \n",
              "3  2021-05-10  English  615.00             12        4.5  \n",
              "4  2010-01-13  English  820.00            181        4.5  "
            ],
            "text/html": [
              "\n",
              "  <div id=\"df-f004f9b5-a5bd-45eb-9018-0673d7751f3c\" class=\"colab-df-container\">\n",
              "    <div>\n",
              "<style scoped>\n",
              "    .dataframe tbody tr th:only-of-type {\n",
              "        vertical-align: middle;\n",
              "    }\n",
              "\n",
              "    .dataframe tbody tr th {\n",
              "        vertical-align: top;\n",
              "    }\n",
              "\n",
              "    .dataframe thead th {\n",
              "        text-align: right;\n",
              "    }\n",
              "</style>\n",
              "<table border=\"1\" class=\"dataframe\">\n",
              "  <thead>\n",
              "    <tr style=\"text-align: right;\">\n",
              "      <th></th>\n",
              "      <th>name</th>\n",
              "      <th>author</th>\n",
              "      <th>narrator</th>\n",
              "      <th>time</th>\n",
              "      <th>releasedate</th>\n",
              "      <th>language</th>\n",
              "      <th>price</th>\n",
              "      <th>total_ratings</th>\n",
              "      <th>avg_stars</th>\n",
              "    </tr>\n",
              "  </thead>\n",
              "  <tbody>\n",
              "    <tr>\n",
              "      <th>0</th>\n",
              "      <td>Geronimo Stilton</td>\n",
              "      <td>GeronimoStilton</td>\n",
              "      <td>BillLobely</td>\n",
              "      <td>140</td>\n",
              "      <td>2008-04-08</td>\n",
              "      <td>English</td>\n",
              "      <td>468.00</td>\n",
              "      <td>34</td>\n",
              "      <td>5.0</td>\n",
              "    </tr>\n",
              "    <tr>\n",
              "      <th>1</th>\n",
              "      <td>The Burning Maze</td>\n",
              "      <td>RickRiordan</td>\n",
              "      <td>RobbieDaymond</td>\n",
              "      <td>788</td>\n",
              "      <td>2018-01-05</td>\n",
              "      <td>English</td>\n",
              "      <td>820.00</td>\n",
              "      <td>41</td>\n",
              "      <td>4.5</td>\n",
              "    </tr>\n",
              "    <tr>\n",
              "      <th>2</th>\n",
              "      <td>The Deep End</td>\n",
              "      <td>JeffKinney</td>\n",
              "      <td>DanRussell</td>\n",
              "      <td>123</td>\n",
              "      <td>2020-06-11</td>\n",
              "      <td>English</td>\n",
              "      <td>410.00</td>\n",
              "      <td>38</td>\n",
              "      <td>4.5</td>\n",
              "    </tr>\n",
              "    <tr>\n",
              "      <th>3</th>\n",
              "      <td>Daughter of the Deep</td>\n",
              "      <td>RickRiordan</td>\n",
              "      <td>SoneelaNankani</td>\n",
              "      <td>676</td>\n",
              "      <td>2021-05-10</td>\n",
              "      <td>English</td>\n",
              "      <td>615.00</td>\n",
              "      <td>12</td>\n",
              "      <td>4.5</td>\n",
              "    </tr>\n",
              "    <tr>\n",
              "      <th>4</th>\n",
              "      <td>The Lightning Thief: Percy Jackson</td>\n",
              "      <td>RickRiordan</td>\n",
              "      <td>JesseBernstein</td>\n",
              "      <td>600</td>\n",
              "      <td>2010-01-13</td>\n",
              "      <td>English</td>\n",
              "      <td>820.00</td>\n",
              "      <td>181</td>\n",
              "      <td>4.5</td>\n",
              "    </tr>\n",
              "  </tbody>\n",
              "</table>\n",
              "</div>\n",
              "    <div class=\"colab-df-buttons\">\n",
              "\n",
              "  <div class=\"colab-df-container\">\n",
              "    <button class=\"colab-df-convert\" onclick=\"convertToInteractive('df-f004f9b5-a5bd-45eb-9018-0673d7751f3c')\"\n",
              "            title=\"Convert this dataframe to an interactive table.\"\n",
              "            style=\"display:none;\">\n",
              "\n",
              "  <svg xmlns=\"http://www.w3.org/2000/svg\" height=\"24px\" viewBox=\"0 -960 960 960\">\n",
              "    <path d=\"M120-120v-720h720v720H120Zm60-500h600v-160H180v160Zm220 220h160v-160H400v160Zm0 220h160v-160H400v160ZM180-400h160v-160H180v160Zm440 0h160v-160H620v160ZM180-180h160v-160H180v160Zm440 0h160v-160H620v160Z\"/>\n",
              "  </svg>\n",
              "    </button>\n",
              "\n",
              "  <style>\n",
              "    .colab-df-container {\n",
              "      display:flex;\n",
              "      gap: 12px;\n",
              "    }\n",
              "\n",
              "    .colab-df-convert {\n",
              "      background-color: #E8F0FE;\n",
              "      border: none;\n",
              "      border-radius: 50%;\n",
              "      cursor: pointer;\n",
              "      display: none;\n",
              "      fill: #1967D2;\n",
              "      height: 32px;\n",
              "      padding: 0 0 0 0;\n",
              "      width: 32px;\n",
              "    }\n",
              "\n",
              "    .colab-df-convert:hover {\n",
              "      background-color: #E2EBFA;\n",
              "      box-shadow: 0px 1px 2px rgba(60, 64, 67, 0.3), 0px 1px 3px 1px rgba(60, 64, 67, 0.15);\n",
              "      fill: #174EA6;\n",
              "    }\n",
              "\n",
              "    .colab-df-buttons div {\n",
              "      margin-bottom: 4px;\n",
              "    }\n",
              "\n",
              "    [theme=dark] .colab-df-convert {\n",
              "      background-color: #3B4455;\n",
              "      fill: #D2E3FC;\n",
              "    }\n",
              "\n",
              "    [theme=dark] .colab-df-convert:hover {\n",
              "      background-color: #434B5C;\n",
              "      box-shadow: 0px 1px 3px 1px rgba(0, 0, 0, 0.15);\n",
              "      filter: drop-shadow(0px 1px 2px rgba(0, 0, 0, 0.3));\n",
              "      fill: #FFFFFF;\n",
              "    }\n",
              "  </style>\n",
              "\n",
              "    <script>\n",
              "      const buttonEl =\n",
              "        document.querySelector('#df-f004f9b5-a5bd-45eb-9018-0673d7751f3c button.colab-df-convert');\n",
              "      buttonEl.style.display =\n",
              "        google.colab.kernel.accessAllowed ? 'block' : 'none';\n",
              "\n",
              "      async function convertToInteractive(key) {\n",
              "        const element = document.querySelector('#df-f004f9b5-a5bd-45eb-9018-0673d7751f3c');\n",
              "        const dataTable =\n",
              "          await google.colab.kernel.invokeFunction('convertToInteractive',\n",
              "                                                    [key], {});\n",
              "        if (!dataTable) return;\n",
              "\n",
              "        const docLinkHtml = 'Like what you see? Visit the ' +\n",
              "          '<a target=\"_blank\" href=https://colab.research.google.com/notebooks/data_table.ipynb>data table notebook</a>'\n",
              "          + ' to learn more about interactive tables.';\n",
              "        element.innerHTML = '';\n",
              "        dataTable['output_type'] = 'display_data';\n",
              "        await google.colab.output.renderOutput(dataTable, element);\n",
              "        const docLink = document.createElement('div');\n",
              "        docLink.innerHTML = docLinkHtml;\n",
              "        element.appendChild(docLink);\n",
              "      }\n",
              "    </script>\n",
              "  </div>\n",
              "\n",
              "\n",
              "    <div id=\"df-72c021d2-9e86-4621-b757-bb7246598c9f\">\n",
              "      <button class=\"colab-df-quickchart\" onclick=\"quickchart('df-72c021d2-9e86-4621-b757-bb7246598c9f')\"\n",
              "                title=\"Suggest charts\"\n",
              "                style=\"display:none;\">\n",
              "\n",
              "<svg xmlns=\"http://www.w3.org/2000/svg\" height=\"24px\"viewBox=\"0 0 24 24\"\n",
              "     width=\"24px\">\n",
              "    <g>\n",
              "        <path d=\"M19 3H5c-1.1 0-2 .9-2 2v14c0 1.1.9 2 2 2h14c1.1 0 2-.9 2-2V5c0-1.1-.9-2-2-2zM9 17H7v-7h2v7zm4 0h-2V7h2v10zm4 0h-2v-4h2v4z\"/>\n",
              "    </g>\n",
              "</svg>\n",
              "      </button>\n",
              "\n",
              "<style>\n",
              "  .colab-df-quickchart {\n",
              "      --bg-color: #E8F0FE;\n",
              "      --fill-color: #1967D2;\n",
              "      --hover-bg-color: #E2EBFA;\n",
              "      --hover-fill-color: #174EA6;\n",
              "      --disabled-fill-color: #AAA;\n",
              "      --disabled-bg-color: #DDD;\n",
              "  }\n",
              "\n",
              "  [theme=dark] .colab-df-quickchart {\n",
              "      --bg-color: #3B4455;\n",
              "      --fill-color: #D2E3FC;\n",
              "      --hover-bg-color: #434B5C;\n",
              "      --hover-fill-color: #FFFFFF;\n",
              "      --disabled-bg-color: #3B4455;\n",
              "      --disabled-fill-color: #666;\n",
              "  }\n",
              "\n",
              "  .colab-df-quickchart {\n",
              "    background-color: var(--bg-color);\n",
              "    border: none;\n",
              "    border-radius: 50%;\n",
              "    cursor: pointer;\n",
              "    display: none;\n",
              "    fill: var(--fill-color);\n",
              "    height: 32px;\n",
              "    padding: 0;\n",
              "    width: 32px;\n",
              "  }\n",
              "\n",
              "  .colab-df-quickchart:hover {\n",
              "    background-color: var(--hover-bg-color);\n",
              "    box-shadow: 0 1px 2px rgba(60, 64, 67, 0.3), 0 1px 3px 1px rgba(60, 64, 67, 0.15);\n",
              "    fill: var(--button-hover-fill-color);\n",
              "  }\n",
              "\n",
              "  .colab-df-quickchart-complete:disabled,\n",
              "  .colab-df-quickchart-complete:disabled:hover {\n",
              "    background-color: var(--disabled-bg-color);\n",
              "    fill: var(--disabled-fill-color);\n",
              "    box-shadow: none;\n",
              "  }\n",
              "\n",
              "  .colab-df-spinner {\n",
              "    border: 2px solid var(--fill-color);\n",
              "    border-color: transparent;\n",
              "    border-bottom-color: var(--fill-color);\n",
              "    animation:\n",
              "      spin 1s steps(1) infinite;\n",
              "  }\n",
              "\n",
              "  @keyframes spin {\n",
              "    0% {\n",
              "      border-color: transparent;\n",
              "      border-bottom-color: var(--fill-color);\n",
              "      border-left-color: var(--fill-color);\n",
              "    }\n",
              "    20% {\n",
              "      border-color: transparent;\n",
              "      border-left-color: var(--fill-color);\n",
              "      border-top-color: var(--fill-color);\n",
              "    }\n",
              "    30% {\n",
              "      border-color: transparent;\n",
              "      border-left-color: var(--fill-color);\n",
              "      border-top-color: var(--fill-color);\n",
              "      border-right-color: var(--fill-color);\n",
              "    }\n",
              "    40% {\n",
              "      border-color: transparent;\n",
              "      border-right-color: var(--fill-color);\n",
              "      border-top-color: var(--fill-color);\n",
              "    }\n",
              "    60% {\n",
              "      border-color: transparent;\n",
              "      border-right-color: var(--fill-color);\n",
              "    }\n",
              "    80% {\n",
              "      border-color: transparent;\n",
              "      border-right-color: var(--fill-color);\n",
              "      border-bottom-color: var(--fill-color);\n",
              "    }\n",
              "    90% {\n",
              "      border-color: transparent;\n",
              "      border-bottom-color: var(--fill-color);\n",
              "    }\n",
              "  }\n",
              "</style>\n",
              "\n",
              "      <script>\n",
              "        async function quickchart(key) {\n",
              "          const quickchartButtonEl =\n",
              "            document.querySelector('#' + key + ' button');\n",
              "          quickchartButtonEl.disabled = true;  // To prevent multiple clicks.\n",
              "          quickchartButtonEl.classList.add('colab-df-spinner');\n",
              "          try {\n",
              "            const charts = await google.colab.kernel.invokeFunction(\n",
              "                'suggestCharts', [key], {});\n",
              "          } catch (error) {\n",
              "            console.error('Error during call to suggestCharts:', error);\n",
              "          }\n",
              "          quickchartButtonEl.classList.remove('colab-df-spinner');\n",
              "          quickchartButtonEl.classList.add('colab-df-quickchart-complete');\n",
              "        }\n",
              "        (() => {\n",
              "          let quickchartButtonEl =\n",
              "            document.querySelector('#df-72c021d2-9e86-4621-b757-bb7246598c9f button');\n",
              "          quickchartButtonEl.style.display =\n",
              "            google.colab.kernel.accessAllowed ? 'block' : 'none';\n",
              "        })();\n",
              "      </script>\n",
              "    </div>\n",
              "\n",
              "    </div>\n",
              "  </div>\n"
            ],
            "application/vnd.google.colaboratory.intrinsic+json": {
              "type": "dataframe",
              "summary": "{\n  \"name\": \"pd\",\n  \"rows\": 5,\n  \"fields\": [\n    {\n      \"column\": \"name\",\n      \"properties\": {\n        \"dtype\": \"string\",\n        \"num_unique_values\": 5,\n        \"samples\": [\n          \"The Burning Maze\",\n          \"The Lightning Thief: Percy Jackson\",\n          \"The Deep End\"\n        ],\n        \"semantic_type\": \"\",\n        \"description\": \"\"\n      }\n    },\n    {\n      \"column\": \"author\",\n      \"properties\": {\n        \"dtype\": \"string\",\n        \"num_unique_values\": 3,\n        \"samples\": [\n          \"GeronimoStilton\",\n          \"RickRiordan\",\n          \"JeffKinney\"\n        ],\n        \"semantic_type\": \"\",\n        \"description\": \"\"\n      }\n    },\n    {\n      \"column\": \"narrator\",\n      \"properties\": {\n        \"dtype\": \"string\",\n        \"num_unique_values\": 5,\n        \"samples\": [\n          \"RobbieDaymond\",\n          \"JesseBernstein\",\n          \"DanRussell\"\n        ],\n        \"semantic_type\": \"\",\n        \"description\": \"\"\n      }\n    },\n    {\n      \"column\": \"time\",\n      \"properties\": {\n        \"dtype\": \"number\",\n        \"std\": 312,\n        \"min\": 123,\n        \"max\": 788,\n        \"num_unique_values\": 5,\n        \"samples\": [\n          788,\n          600,\n          123\n        ],\n        \"semantic_type\": \"\",\n        \"description\": \"\"\n      }\n    },\n    {\n      \"column\": \"releasedate\",\n      \"properties\": {\n        \"dtype\": \"date\",\n        \"min\": \"2008-04-08 00:00:00\",\n        \"max\": \"2021-05-10 00:00:00\",\n        \"num_unique_values\": 5,\n        \"samples\": [\n          \"2018-01-05 00:00:00\",\n          \"2010-01-13 00:00:00\",\n          \"2020-06-11 00:00:00\"\n        ],\n        \"semantic_type\": \"\",\n        \"description\": \"\"\n      }\n    },\n    {\n      \"column\": \"language\",\n      \"properties\": {\n        \"dtype\": \"category\",\n        \"num_unique_values\": 1,\n        \"samples\": [\n          \"English\"\n        ],\n        \"semantic_type\": \"\",\n        \"description\": \"\"\n      }\n    },\n    {\n      \"column\": \"price\",\n      \"properties\": {\n        \"dtype\": \"string\",\n        \"num_unique_values\": 4,\n        \"samples\": [\n          \"820.00\"\n        ],\n        \"semantic_type\": \"\",\n        \"description\": \"\"\n      }\n    },\n    {\n      \"column\": \"total_ratings\",\n      \"properties\": {\n        \"dtype\": \"number\",\n        \"std\": 67,\n        \"min\": 12,\n        \"max\": 181,\n        \"num_unique_values\": 5,\n        \"samples\": [\n          41\n        ],\n        \"semantic_type\": \"\",\n        \"description\": \"\"\n      }\n    },\n    {\n      \"column\": \"avg_stars\",\n      \"properties\": {\n        \"dtype\": \"number\",\n        \"std\": 0.22360679774997896,\n        \"min\": 4.5,\n        \"max\": 5.0,\n        \"num_unique_values\": 2,\n        \"samples\": [\n          4.5\n        ],\n        \"semantic_type\": \"\",\n        \"description\": \"\"\n      }\n    }\n  ]\n}"
            }
          },
          "metadata": {},
          "execution_count": 35
        }
      ]
    },
    {
      "cell_type": "code",
      "source": [],
      "metadata": {
        "id": "DnRTZ-yRTteU"
      },
      "execution_count": null,
      "outputs": []
    }
  ]
}