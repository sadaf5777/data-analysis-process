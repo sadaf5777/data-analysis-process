{
 "cells": [
  {
   "cell_type": "code",
   "execution_count": 1,
   "id": "b2abca6f",
   "metadata": {},
   "outputs": [],
   "source": [
    "import pandas as pd"
   ]
  },
  {
   "cell_type": "code",
   "execution_count": 5,
   "id": "765c9e2c",
   "metadata": {},
   "outputs": [],
   "source": [
    "df=pd.read_csv(r\"C:\\Users\\Nadeem Anwar\\Desktop\\Sadaf\\data analysis process\\web scraping with selenium\\phone.csv\")"
   ]
  },
  {
   "cell_type": "code",
   "execution_count": 6,
   "id": "edc9b219",
   "metadata": {},
   "outputs": [
    {
     "name": "stdout",
     "output_type": "stream",
     "text": [
      "<class 'pandas.core.frame.DataFrame'>\n",
      "RangeIndex: 1020 entries, 0 to 1019\n",
      "Data columns (total 12 columns):\n",
      " #   Column      Non-Null Count  Dtype  \n",
      "---  ------      --------------  -----  \n",
      " 0   Unnamed: 0  1020 non-null   int64  \n",
      " 1   brand_name  1020 non-null   object \n",
      " 2   price       1020 non-null   object \n",
      " 3   spec_score  712 non-null    object \n",
      " 4   ratings     1020 non-null   float64\n",
      " 5   dual_sim    1020 non-null   object \n",
      " 6   processor   1020 non-null   object \n",
      " 7   ram         1020 non-null   object \n",
      " 8   battery     1020 non-null   object \n",
      " 9   display     1020 non-null   object \n",
      " 10  camera      1020 non-null   object \n",
      " 11  os          1020 non-null   object \n",
      "dtypes: float64(1), int64(1), object(10)\n",
      "memory usage: 95.8+ KB\n"
     ]
    }
   ],
   "source": [
    "df.info()"
   ]
  }
 ],
 "metadata": {
  "kernelspec": {
   "display_name": "Python 3",
   "language": "python",
   "name": "python3"
  },
  "language_info": {
   "codemirror_mode": {
    "name": "ipython",
    "version": 3
   },
   "file_extension": ".py",
   "mimetype": "text/x-python",
   "name": "python",
   "nbconvert_exporter": "python",
   "pygments_lexer": "ipython3",
   "version": "3.13.7"
  }
 },
 "nbformat": 4,
 "nbformat_minor": 5
}
