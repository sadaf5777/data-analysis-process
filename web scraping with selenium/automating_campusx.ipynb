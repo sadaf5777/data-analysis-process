{
 "cells": [
  {
   "cell_type": "code",
   "execution_count": 25,
   "id": "50aab2b4",
   "metadata": {},
   "outputs": [
    {
     "name": "stdout",
     "output_type": "stream",
     "text": [
      "Requirement already satisfied: selenium in c:\\users\\nadeem anwar\\appdata\\local\\programs\\python\\python313\\lib\\site-packages (4.35.0)\n",
      "Requirement already satisfied: urllib3<3.0,>=2.5.0 in c:\\users\\nadeem anwar\\appdata\\local\\programs\\python\\python313\\lib\\site-packages (from urllib3[socks]<3.0,>=2.5.0->selenium) (2.5.0)\n",
      "Requirement already satisfied: trio~=0.30.0 in c:\\users\\nadeem anwar\\appdata\\local\\programs\\python\\python313\\lib\\site-packages (from selenium) (0.30.0)\n",
      "Requirement already satisfied: trio-websocket~=0.12.2 in c:\\users\\nadeem anwar\\appdata\\local\\programs\\python\\python313\\lib\\site-packages (from selenium) (0.12.2)\n",
      "Requirement already satisfied: certifi>=2025.6.15 in c:\\users\\nadeem anwar\\appdata\\local\\programs\\python\\python313\\lib\\site-packages (from selenium) (2025.8.3)\n",
      "Requirement already satisfied: typing_extensions~=4.14.0 in c:\\users\\nadeem anwar\\appdata\\local\\programs\\python\\python313\\lib\\site-packages (from selenium) (4.14.1)\n",
      "Requirement already satisfied: websocket-client~=1.8.0 in c:\\users\\nadeem anwar\\appdata\\local\\programs\\python\\python313\\lib\\site-packages (from selenium) (1.8.0)\n",
      "Requirement already satisfied: attrs>=23.2.0 in c:\\users\\nadeem anwar\\appdata\\local\\programs\\python\\python313\\lib\\site-packages (from trio~=0.30.0->selenium) (25.3.0)\n",
      "Requirement already satisfied: sortedcontainers in c:\\users\\nadeem anwar\\appdata\\local\\programs\\python\\python313\\lib\\site-packages (from trio~=0.30.0->selenium) (2.4.0)\n",
      "Requirement already satisfied: idna in c:\\users\\nadeem anwar\\appdata\\local\\programs\\python\\python313\\lib\\site-packages (from trio~=0.30.0->selenium) (3.10)\n",
      "Requirement already satisfied: outcome in c:\\users\\nadeem anwar\\appdata\\local\\programs\\python\\python313\\lib\\site-packages (from trio~=0.30.0->selenium) (1.3.0.post0)\n",
      "Requirement already satisfied: sniffio>=1.3.0 in c:\\users\\nadeem anwar\\appdata\\local\\programs\\python\\python313\\lib\\site-packages (from trio~=0.30.0->selenium) (1.3.1)\n",
      "Requirement already satisfied: cffi>=1.14 in c:\\users\\nadeem anwar\\appdata\\local\\programs\\python\\python313\\lib\\site-packages (from trio~=0.30.0->selenium) (2.0.0)\n",
      "Requirement already satisfied: wsproto>=0.14 in c:\\users\\nadeem anwar\\appdata\\local\\programs\\python\\python313\\lib\\site-packages (from trio-websocket~=0.12.2->selenium) (1.2.0)\n",
      "Requirement already satisfied: pysocks!=1.5.7,<2.0,>=1.5.6 in c:\\users\\nadeem anwar\\appdata\\local\\programs\\python\\python313\\lib\\site-packages (from urllib3[socks]<3.0,>=2.5.0->selenium) (1.7.1)\n",
      "Requirement already satisfied: pycparser in c:\\users\\nadeem anwar\\appdata\\local\\programs\\python\\python313\\lib\\site-packages (from cffi>=1.14->trio~=0.30.0->selenium) (2.23)\n",
      "Requirement already satisfied: h11<1,>=0.9.0 in c:\\users\\nadeem anwar\\appdata\\local\\programs\\python\\python313\\lib\\site-packages (from wsproto>=0.14->trio-websocket~=0.12.2->selenium) (0.16.0)\n"
     ]
    }
   ],
   "source": [
    "!pip install selenium"
   ]
  },
  {
   "cell_type": "markdown",
   "id": "4f9a64b2",
   "metadata": {},
   "source": [
    "### work flow"
   ]
  },
  {
   "cell_type": "markdown",
   "id": "1dafe084",
   "metadata": {},
   "source": [
    "- open edge\n",
    "- search campusx\n",
    "- learnwith.campusx.in\n",
    "- dsmp course page"
   ]
  },
  {
   "cell_type": "code",
   "execution_count": 64,
   "id": "eca80a5f",
   "metadata": {},
   "outputs": [],
   "source": [
    "from selenium import webdriver\n",
    "from selenium.webdriver.edge.service import Service\n",
    "from selenium.webdriver.common.by import By\n",
    "from selenium.webdriver.common.keys import Keys\n",
    "import time\n",
    "s=Service(\"C:/Users/Nadeem Anwar/Downloads/edgedriver_win64/msedgedriver.exe\")  # object of service class and path of driver\n"
   ]
  },
  {
   "cell_type": "markdown",
   "id": "2384438f",
   "metadata": {},
   "source": [
    "- opening a new window in edge browser"
   ]
  },
  {
   "cell_type": "code",
   "execution_count": 65,
   "id": "f6ef1b4b",
   "metadata": {},
   "outputs": [],
   "source": [
    "driver=webdriver.Edge(service = s)"
   ]
  },
  {
   "cell_type": "code",
   "execution_count": 66,
   "id": "bf4d7937",
   "metadata": {},
   "outputs": [
    {
     "name": "stdout",
     "output_type": "stream",
     "text": [
      "Name: selenium\n",
      "Version: 4.35.0\n",
      "Summary: Official Python bindings for Selenium WebDriver\n",
      "Home-page: https://www.selenium.dev\n",
      "Author: \n",
      "Author-email: \n",
      "License: Apache-2.0\n",
      "Location: C:\\Users\\Nadeem Anwar\\AppData\\Local\\Programs\\Python\\Python313\\Lib\\site-packages\n",
      "Requires: certifi, trio, trio-websocket, typing_extensions, urllib3, websocket-client\n",
      "Required-by: \n"
     ]
    }
   ],
   "source": [
    "!pip show selenium"
   ]
  },
  {
   "cell_type": "code",
   "execution_count": 11,
   "id": "b00f40dc",
   "metadata": {},
   "outputs": [
    {
     "name": "stdout",
     "output_type": "stream",
     "text": [
      "Requirement already satisfied: selenium in c:\\users\\nadeem anwar\\appdata\\local\\programs\\python\\python313\\lib\\site-packages (4.35.0)\n",
      "Requirement already satisfied: urllib3<3.0,>=2.5.0 in c:\\users\\nadeem anwar\\appdata\\local\\programs\\python\\python313\\lib\\site-packages (from urllib3[socks]<3.0,>=2.5.0->selenium) (2.5.0)\n",
      "Requirement already satisfied: trio~=0.30.0 in c:\\users\\nadeem anwar\\appdata\\local\\programs\\python\\python313\\lib\\site-packages (from selenium) (0.30.0)\n",
      "Requirement already satisfied: trio-websocket~=0.12.2 in c:\\users\\nadeem anwar\\appdata\\local\\programs\\python\\python313\\lib\\site-packages (from selenium) (0.12.2)\n",
      "Requirement already satisfied: certifi>=2025.6.15 in c:\\users\\nadeem anwar\\appdata\\local\\programs\\python\\python313\\lib\\site-packages (from selenium) (2025.8.3)\n",
      "Requirement already satisfied: typing_extensions~=4.14.0 in c:\\users\\nadeem anwar\\appdata\\local\\programs\\python\\python313\\lib\\site-packages (from selenium) (4.14.1)\n",
      "Requirement already satisfied: websocket-client~=1.8.0 in c:\\users\\nadeem anwar\\appdata\\local\\programs\\python\\python313\\lib\\site-packages (from selenium) (1.8.0)\n",
      "Requirement already satisfied: attrs>=23.2.0 in c:\\users\\nadeem anwar\\appdata\\local\\programs\\python\\python313\\lib\\site-packages (from trio~=0.30.0->selenium) (25.3.0)\n",
      "Requirement already satisfied: sortedcontainers in c:\\users\\nadeem anwar\\appdata\\local\\programs\\python\\python313\\lib\\site-packages (from trio~=0.30.0->selenium) (2.4.0)\n",
      "Requirement already satisfied: idna in c:\\users\\nadeem anwar\\appdata\\local\\programs\\python\\python313\\lib\\site-packages (from trio~=0.30.0->selenium) (3.10)\n",
      "Requirement already satisfied: outcome in c:\\users\\nadeem anwar\\appdata\\local\\programs\\python\\python313\\lib\\site-packages (from trio~=0.30.0->selenium) (1.3.0.post0)\n",
      "Requirement already satisfied: sniffio>=1.3.0 in c:\\users\\nadeem anwar\\appdata\\local\\programs\\python\\python313\\lib\\site-packages (from trio~=0.30.0->selenium) (1.3.1)\n",
      "Requirement already satisfied: cffi>=1.14 in c:\\users\\nadeem anwar\\appdata\\local\\programs\\python\\python313\\lib\\site-packages (from trio~=0.30.0->selenium) (2.0.0)\n",
      "Requirement already satisfied: wsproto>=0.14 in c:\\users\\nadeem anwar\\appdata\\local\\programs\\python\\python313\\lib\\site-packages (from trio-websocket~=0.12.2->selenium) (1.2.0)\n",
      "Requirement already satisfied: pysocks!=1.5.7,<2.0,>=1.5.6 in c:\\users\\nadeem anwar\\appdata\\local\\programs\\python\\python313\\lib\\site-packages (from urllib3[socks]<3.0,>=2.5.0->selenium) (1.7.1)\n",
      "Requirement already satisfied: pycparser in c:\\users\\nadeem anwar\\appdata\\local\\programs\\python\\python313\\lib\\site-packages (from cffi>=1.14->trio~=0.30.0->selenium) (2.23)\n",
      "Requirement already satisfied: h11<1,>=0.9.0 in c:\\users\\nadeem anwar\\appdata\\local\\programs\\python\\python313\\lib\\site-packages (from wsproto>=0.14->trio-websocket~=0.12.2->selenium) (0.16.0)\n"
     ]
    }
   ],
   "source": [
    "!pip install --upgrade selenium\n"
   ]
  },
  {
   "cell_type": "markdown",
   "id": "23c69cb2",
   "metadata": {},
   "source": [
    "- opening google inside that edge window"
   ]
  },
  {
   "cell_type": "code",
   "execution_count": 67,
   "id": "302b6c80",
   "metadata": {},
   "outputs": [],
   "source": [
    "driver.get(\"http://google.com/\")\n",
    "time.sleep(5)"
   ]
  },
  {
   "cell_type": "markdown",
   "id": "d2f4a693",
   "metadata": {},
   "source": [
    "- fetch the input search box from google page using x path"
   ]
  },
  {
   "cell_type": "code",
   "execution_count": 69,
   "id": "1e838293",
   "metadata": {},
   "outputs": [],
   "source": [
    "user_input=driver.find_element(by=By.XPATH , value='/html/body/div[2]/div[4]/form/div[1]/div[1]/div[1]/div[1]/div[2]/textarea')\n"
   ]
  },
  {
   "cell_type": "markdown",
   "id": "df21e243",
   "metadata": {},
   "source": [
    "- searchung website thta we want to be opened "
   ]
  },
  {
   "cell_type": "code",
   "execution_count": 70,
   "id": "fc975337",
   "metadata": {},
   "outputs": [],
   "source": [
    "user_input.send_keys('campusx')"
   ]
  },
  {
   "cell_type": "markdown",
   "id": "27cd6d88",
   "metadata": {},
   "source": [
    "- pressing the enter button"
   ]
  },
  {
   "cell_type": "code",
   "execution_count": 71,
   "id": "b6f10122",
   "metadata": {},
   "outputs": [],
   "source": [
    "\n",
    "user_input.send_keys(Keys.ENTER)\n",
    "time.sleep(1)"
   ]
  },
  {
   "cell_type": "markdown",
   "id": "92dd5881",
   "metadata": {},
   "source": [
    "- finding the camousx link from xpath"
   ]
  },
  {
   "cell_type": "code",
   "execution_count": 75,
   "id": "94e5b297",
   "metadata": {},
   "outputs": [],
   "source": [
    "link=driver.find_element(by=By.XPATH, value='/html/body/div[3]/div/div[12]/div/div[2]/div[2]/div/div/div[1]/div/div/div/div/div/div/div/div[1]/div/span/a/h3')"
   ]
  },
  {
   "cell_type": "code",
   "execution_count": 76,
   "id": "73cfdbb6",
   "metadata": {},
   "outputs": [],
   "source": [
    "link.click()"
   ]
  },
  {
   "cell_type": "markdown",
   "id": "f02a6a30",
   "metadata": {},
   "source": [
    "- enroll for course"
   ]
  },
  {
   "cell_type": "code",
   "execution_count": 80,
   "id": "33498ce0",
   "metadata": {},
   "outputs": [],
   "source": [
    "course_link=driver.find_element(by=By.XPATH, value='/html/body/div[6]/div[1]/div/div[1]/div/div/div/div[1]/div/div/div[2]/button')"
   ]
  },
  {
   "cell_type": "code",
   "execution_count": 81,
   "id": "76a7d57e",
   "metadata": {},
   "outputs": [],
   "source": [
    "course_link.click()"
   ]
  },
  {
   "cell_type": "code",
   "execution_count": 84,
   "id": "39178ff0",
   "metadata": {},
   "outputs": [],
   "source": [
    "login_button=driver.find_element(by=By.XPATH, value='/html/body/div[1]/header/section[2]/a[8]')"
   ]
  },
  {
   "cell_type": "code",
   "execution_count": 85,
   "id": "a2411676",
   "metadata": {},
   "outputs": [],
   "source": [
    "login_button.click()"
   ]
  }
 ],
 "metadata": {
  "kernelspec": {
   "display_name": "Python 3",
   "language": "python",
   "name": "python3"
  },
  "language_info": {
   "codemirror_mode": {
    "name": "ipython",
    "version": 3
   },
   "file_extension": ".py",
   "mimetype": "text/x-python",
   "name": "python",
   "nbconvert_exporter": "python",
   "pygments_lexer": "ipython3",
   "version": "3.13.7"
  }
 },
 "nbformat": 4,
 "nbformat_minor": 5
}
