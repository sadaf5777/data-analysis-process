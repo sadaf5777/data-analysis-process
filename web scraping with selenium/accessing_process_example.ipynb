{
 "cells": [
  {
   "cell_type": "code",
   "execution_count": 1,
   "id": "4a4c0215",
   "metadata": {},
   "outputs": [],
   "source": [
    "import numpy as np\n",
    "import pandas as ps"
   ]
  },
  {
   "cell_type": "markdown",
   "id": "9251177b",
   "metadata": {},
   "source": [
    "## Data Assessing\n",
    "\n",
    "### Quality Issues\n",
    "\n",
    "1. **model** - some brands are written diiferently like OPPO in model column `consistency`\n",
    "2. **price** - has unneccesary '₹' `validity`\n",
    "3. **price** - has ',' between numbers `validity`\n",
    "4. **price** - phone Namotel has a price of 99 `accuracy`\n",
    "5. **ratings** - missing values `completeness`\n",
    "6. **processor** - has some incorrect values for some samsung phones(row # -642,647,649,659,667,701,750,759,819,859,883,884,919,927,929,932,1002) `validity`\n",
    "7. There is ipod on row 756 `validity`\n",
    "8. **memory** - incorrect values in rows (441,485,534,553,584,610,613,642,647,649,659,667,701,750,759,819,859,884,919,927,929,932,990,1002) `validity`\n",
    "9. **battery** - incorrect values in rows(113,151,309,365,378,441,450,553,584,610,613,630,642,647,649,659,667,701,750,756,759,764,819,855,859,884,915,916,927,929,932,990,1002) `validity`\n",
    "10. **display** - sometimes frequency is not available `completeness`\n",
    "11. **display** - incorrect values in rows(378,441,450,553,584,610,613,630,642,647,649,659,667,701,750,759,764,819,859,884,915,916,927,929,932,990,1002) `validity`\n",
    "12. certain phones are foldable and the info is scattered `validity`\n",
    "13. **camera** - words like Dual, Triple and Quad are used to represent number of cameras and front and rear cameras are separated by '&'\n",
    "14. **camera** - problem with rows (100,113,151,157,161,238,273,308,309,323,324,365,367,378,394,441,450,484,506,534,553,571,572,575,584,610,613,615,630,642,647,649,659,667,684,687,705,711,723,728,750,756,759,764,792,819,846,854,855,858,883,884,896,915,916,927,929,932,945,956,990,995,1002,1016\n",
    ") `validity`\n",
    "15. **card** - sometimes contains info about os and camera `validity`\n",
    "16. **os** - sometimes contains info about bluetooth and fm radio `validity`\n",
    "17. **os** - issue with rows (324,378) `validity`\n",
    "18. **os** - sometimes contains os version name like lollipop `consistency`\n",
    "19. missing values in camera, card and os `completeness`\n",
    "20. datatype  of price and rating is incorrect `validity`\n",
    "\n",
    "\n",
    "\n",
    "### Tidiness Issues\n",
    "\n",
    "1. **sim** - can be split into 3 cols has_5g, has_NFC, has_IR_Blaster\n",
    "2. **ram** - can be split into 2 cols RAM and ROM\n",
    "3. **processor** - can be split into processor name, cores and cpu speed.\n",
    "4. **battery** - can be split into battery capacity, fast_charging_available\n",
    "5. **display** - can be split into size, resolution_width, resolution_height and frequency\n",
    "6. **camera** - can be split into front and rear camera\n",
    "7. **card** - can be split into supported, extended_upto"
   ]
  }
 ],
 "metadata": {
  "kernelspec": {
   "display_name": "Python 3",
   "language": "python",
   "name": "python3"
  },
  "language_info": {
   "codemirror_mode": {
    "name": "ipython",
    "version": 3
   },
   "file_extension": ".py",
   "mimetype": "text/x-python",
   "name": "python",
   "nbconvert_exporter": "python",
   "pygments_lexer": "ipython3",
   "version": "3.13.7"
  }
 },
 "nbformat": 4,
 "nbformat_minor": 5
}
