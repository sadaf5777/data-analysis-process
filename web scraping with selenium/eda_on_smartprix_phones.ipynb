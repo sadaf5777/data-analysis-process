{
 "cells": [
  {
   "cell_type": "code",
   "execution_count": 1,
   "id": "f3fabb13",
   "metadata": {},
   "outputs": [],
   "source": [
    "import numpy as np\n",
    "import pandas as pd"
   ]
  },
  {
   "cell_type": "code",
   "execution_count": 6,
   "id": "ae30b6dd",
   "metadata": {},
   "outputs": [],
   "source": [
    "df1=pd.read_excel(r\"C:\\Users\\Nadeem Anwar\\Desktop\\Sadaf\\data analysis process\\web scraping with selenium\\latest_cleaned_phones.xlsx\")"
   ]
  },
  {
   "cell_type": "code",
   "execution_count": 5,
   "id": "b4efc7f6",
   "metadata": {},
   "outputs": [],
   "source": [
    "df2=pd.read_csv(r\"C:\\Users\\Nadeem Anwar\\Desktop\\smartphone_cleaned_v3.csv\")"
   ]
  },
  {
   "cell_type": "code",
   "execution_count": 12,
   "id": "544240f9",
   "metadata": {},
   "outputs": [
    {
     "name": "stdout",
     "output_type": "stream",
     "text": [
      "<class 'pandas.core.frame.DataFrame'>\n",
      "RangeIndex: 1020 entries, 0 to 1019\n",
      "Data columns (total 26 columns):\n",
      " #   Column                     Non-Null Count  Dtype  \n",
      "---  ------                     --------------  -----  \n",
      " 0   Unnamed: 0                 1020 non-null   int64  \n",
      " 1   brand_name                 1020 non-null   object \n",
      " 2   model                      1020 non-null   object \n",
      " 3   price                      1020 non-null   int64  \n",
      " 4   ratings                    1020 non-null   float64\n",
      " 5   has_5g                     1020 non-null   bool   \n",
      " 6   has_nfc                    1020 non-null   bool   \n",
      " 7   has_ir_blaster             1020 non-null   bool   \n",
      " 8   processor_brand            969 non-null    object \n",
      " 9   num_cores                  1012 non-null   float64\n",
      " 10  processor_speed            869 non-null    float64\n",
      " 11  display_size               1020 non-null   float64\n",
      " 12  battery_capacity           1013 non-null   float64\n",
      " 13  fast_charging_available    1008 non-null   float64\n",
      " 14  fast_charging_W            960 non-null    float64\n",
      " 15  resolution                 1020 non-null   object \n",
      " 16  refresh_rate               1020 non-null   int64  \n",
      " 17  num_rear_cameras           1020 non-null   int64  \n",
      " 18  num_front_cameras          1020 non-null   object \n",
      " 19  memory_extended_upto       271 non-null    float64\n",
      " 20  extended_memory_available  1020 non-null   int64  \n",
      " 21  os                         404 non-null    object \n",
      " 22  ram_capacity               1020 non-null   int64  \n",
      " 23  internal_memory_GB         1020 non-null   int64  \n",
      " 24  primary_camera_rear_MP     1019 non-null   float64\n",
      " 25  primary_camera_front_MP    1015 non-null   float64\n",
      "dtypes: bool(3), float64(10), int64(7), object(6)\n",
      "memory usage: 186.4+ KB\n"
     ]
    }
   ],
   "source": [
    "df1.info()\n"
   ]
  },
  {
   "cell_type": "code",
   "execution_count": 10,
   "id": "8248c1ae",
   "metadata": {},
   "outputs": [
    {
     "data": {
      "text/html": [
       "<div>\n",
       "<style scoped>\n",
       "    .dataframe tbody tr th:only-of-type {\n",
       "        vertical-align: middle;\n",
       "    }\n",
       "\n",
       "    .dataframe tbody tr th {\n",
       "        vertical-align: top;\n",
       "    }\n",
       "\n",
       "    .dataframe thead th {\n",
       "        text-align: right;\n",
       "    }\n",
       "</style>\n",
       "<table border=\"1\" class=\"dataframe\">\n",
       "  <thead>\n",
       "    <tr style=\"text-align: right;\">\n",
       "      <th></th>\n",
       "      <th>processor_name</th>\n",
       "      <th>processor_brand</th>\n",
       "    </tr>\n",
       "  </thead>\n",
       "  <tbody>\n",
       "    <tr>\n",
       "      <th>0</th>\n",
       "      <td>Snapdragon 8 Gen2</td>\n",
       "      <td>snapdragon</td>\n",
       "    </tr>\n",
       "    <tr>\n",
       "      <th>1</th>\n",
       "      <td>Snapdragon 695</td>\n",
       "      <td>snapdragon</td>\n",
       "    </tr>\n",
       "    <tr>\n",
       "      <th>2</th>\n",
       "      <td>Exynos 1330</td>\n",
       "      <td>exynos</td>\n",
       "    </tr>\n",
       "    <tr>\n",
       "      <th>3</th>\n",
       "      <td>Snapdragon  695</td>\n",
       "      <td>snapdragon</td>\n",
       "    </tr>\n",
       "    <tr>\n",
       "      <th>4</th>\n",
       "      <td>Dimensity 1080</td>\n",
       "      <td>dimensity</td>\n",
       "    </tr>\n",
       "    <tr>\n",
       "      <th>...</th>\n",
       "      <td>...</td>\n",
       "      <td>...</td>\n",
       "    </tr>\n",
       "    <tr>\n",
       "      <th>975</th>\n",
       "      <td>Snapdragon 8 Gen1</td>\n",
       "      <td>snapdragon</td>\n",
       "    </tr>\n",
       "    <tr>\n",
       "      <th>976</th>\n",
       "      <td>Snapdragon  480+</td>\n",
       "      <td>snapdragon</td>\n",
       "    </tr>\n",
       "    <tr>\n",
       "      <th>977</th>\n",
       "      <td>Dimensity 8100</td>\n",
       "      <td>dimensity</td>\n",
       "    </tr>\n",
       "    <tr>\n",
       "      <th>978</th>\n",
       "      <td>Snapdragon 695</td>\n",
       "      <td>snapdragon</td>\n",
       "    </tr>\n",
       "    <tr>\n",
       "      <th>979</th>\n",
       "      <td>NaN</td>\n",
       "      <td>NaN</td>\n",
       "    </tr>\n",
       "  </tbody>\n",
       "</table>\n",
       "<p>980 rows × 2 columns</p>\n",
       "</div>"
      ],
      "text/plain": [
       "        processor_name processor_brand\n",
       "0    Snapdragon 8 Gen2      snapdragon\n",
       "1       Snapdragon 695      snapdragon\n",
       "2          Exynos 1330          exynos\n",
       "3      Snapdragon  695      snapdragon\n",
       "4       Dimensity 1080       dimensity\n",
       "..                 ...             ...\n",
       "975  Snapdragon 8 Gen1      snapdragon\n",
       "976   Snapdragon  480+      snapdragon\n",
       "977     Dimensity 8100       dimensity\n",
       "978     Snapdragon 695      snapdragon\n",
       "979                NaN             NaN\n",
       "\n",
       "[980 rows x 2 columns]"
      ]
     },
     "execution_count": 10,
     "metadata": {},
     "output_type": "execute_result"
    }
   ],
   "source": [
    "df2[[\"processor_name\",\"processor_brand\"]]"
   ]
  },
  {
   "cell_type": "markdown",
   "id": "0819904d",
   "metadata": {},
   "source": [
    "- creating processor name column"
   ]
  },
  {
   "cell_type": "code",
   "execution_count": 13,
   "id": "836cb1aa",
   "metadata": {},
   "outputs": [],
   "source": [
    "df3=pd.read_excel(r\"C:\\Users\\Nadeem Anwar\\Desktop\\Sadaf\\data analysis process\\web scraping with selenium\\almost_cleaned_phones.xlsx\",usecols=[\"processor\"])"
   ]
  },
  {
   "cell_type": "code",
   "execution_count": 20,
   "id": "bdbf0de4",
   "metadata": {},
   "outputs": [],
   "source": [
    "df1.insert(8,\"processor_name\",df3[\"processor\"].str.strip().str.split(\",\").str.get(0))"
   ]
  },
  {
   "cell_type": "code",
   "execution_count": 21,
   "id": "469e2fc6",
   "metadata": {},
   "outputs": [],
   "source": [
    "df1.to_excel(\"latest1_cleaned_phones.xlsx\")"
   ]
  },
  {
   "cell_type": "code",
   "execution_count": 23,
   "id": "ade8f959",
   "metadata": {},
   "outputs": [],
   "source": [
    "df1=pd.read_excel(r\"C:\\Users\\Nadeem Anwar\\Desktop\\Sadaf\\data analysis process\\web scraping with selenium\\latest1_cleaned_phones.xlsx\")"
   ]
  },
  {
   "cell_type": "code",
   "execution_count": 26,
   "id": "e810d0d7",
   "metadata": {},
   "outputs": [],
   "source": [
    "df1.drop(columns=['Unnamed: 0.1', 'Unnamed: 0'],inplace=True)"
   ]
  },
  {
   "cell_type": "code",
   "execution_count": 27,
   "id": "7d7fc661",
   "metadata": {},
   "outputs": [
    {
     "name": "stdout",
     "output_type": "stream",
     "text": [
      "<class 'pandas.core.frame.DataFrame'>\n",
      "RangeIndex: 1020 entries, 0 to 1019\n",
      "Data columns (total 26 columns):\n",
      " #   Column                     Non-Null Count  Dtype  \n",
      "---  ------                     --------------  -----  \n",
      " 0   brand_name                 1020 non-null   object \n",
      " 1   model                      1020 non-null   object \n",
      " 2   price                      1020 non-null   int64  \n",
      " 3   ratings                    1020 non-null   float64\n",
      " 4   has_5g                     1020 non-null   bool   \n",
      " 5   has_nfc                    1020 non-null   bool   \n",
      " 6   has_ir_blaster             1020 non-null   bool   \n",
      " 7   processor_name             1020 non-null   object \n",
      " 8   processor_brand            969 non-null    object \n",
      " 9   num_cores                  1012 non-null   float64\n",
      " 10  processor_speed            869 non-null    float64\n",
      " 11  display_size               1020 non-null   float64\n",
      " 12  battery_capacity           1013 non-null   float64\n",
      " 13  fast_charging_available    1008 non-null   float64\n",
      " 14  fast_charging_W            960 non-null    float64\n",
      " 15  resolution                 1020 non-null   object \n",
      " 16  refresh_rate               1020 non-null   int64  \n",
      " 17  num_rear_cameras           1020 non-null   int64  \n",
      " 18  num_front_cameras          1020 non-null   object \n",
      " 19  memory_extended_upto       271 non-null    float64\n",
      " 20  extended_memory_available  1020 non-null   int64  \n",
      " 21  os                         404 non-null    object \n",
      " 22  ram_capacity               1020 non-null   int64  \n",
      " 23  internal_memory_GB         1020 non-null   int64  \n",
      " 24  primary_camera_rear_MP     1019 non-null   float64\n",
      " 25  primary_camera_front_MP    1015 non-null   float64\n",
      "dtypes: bool(3), float64(10), int64(6), object(7)\n",
      "memory usage: 186.4+ KB\n"
     ]
    }
   ],
   "source": [
    "df1.info()"
   ]
  },
  {
   "cell_type": "code",
   "execution_count": 28,
   "id": "6dd23f56",
   "metadata": {},
   "outputs": [
    {
     "name": "stdout",
     "output_type": "stream",
     "text": [
      "<class 'pandas.core.frame.DataFrame'>\n",
      "RangeIndex: 980 entries, 0 to 979\n",
      "Data columns (total 24 columns):\n",
      " #   Column                Non-Null Count  Dtype  \n",
      "---  ------                --------------  -----  \n",
      " 0   brand_name            980 non-null    object \n",
      " 1   model                 980 non-null    object \n",
      " 2   price                 980 non-null    int64  \n",
      " 3   rating                879 non-null    float64\n",
      " 4   has_5g                980 non-null    bool   \n",
      " 5   has_nfc               980 non-null    bool   \n",
      " 6   has_ir_blaster        980 non-null    bool   \n",
      " 7   processor_name        960 non-null    object \n",
      " 8   processor_brand       960 non-null    object \n",
      " 9   num_cores             974 non-null    object \n",
      " 10  processor_speed       938 non-null    float64\n",
      " 11  battery_capacity      969 non-null    float64\n",
      " 12  fast_charging         980 non-null    int64  \n",
      " 13  ram_capacity          980 non-null    float64\n",
      " 14  internal_memory       978 non-null    float64\n",
      " 15  screen_size           980 non-null    float64\n",
      " 16  refresh_rate          980 non-null    int64  \n",
      " 17  resolution            980 non-null    object \n",
      " 18  num_rear_cameras      980 non-null    int64  \n",
      " 19  num_front_cameras     980 non-null    object \n",
      " 20  os                    980 non-null    object \n",
      " 21  primary_camera_rear   980 non-null    float64\n",
      " 22  primary_camera_front  976 non-null    object \n",
      " 23  extended_memory       980 non-null    object \n",
      "dtypes: bool(3), float64(7), int64(4), object(10)\n",
      "memory usage: 163.8+ KB\n"
     ]
    }
   ],
   "source": [
    "df2.info()"
   ]
  },
  {
   "cell_type": "code",
   "execution_count": 30,
   "id": "78b60e19",
   "metadata": {},
   "outputs": [
    {
     "data": {
      "text/plain": [
       "Index(['brand_name', 'model', 'price', 'ratings', 'has_5g', 'has_nfc',\n",
       "       'has_ir_blaster', 'processor_name', 'processor_brand', 'num_cores',\n",
       "       'processor_speed', 'display_size', 'battery_capacity',\n",
       "       'fast_charging_available', 'fast_charging_W', 'resolution',\n",
       "       'refresh_rate', 'num_rear_cameras', 'num_front_cameras',\n",
       "       'memory_extended_upto', 'extended_memory_available', 'os',\n",
       "       'ram_capacity', 'internal_memory_GB', 'primary_camera_rear_MP',\n",
       "       'primary_camera_front_MP'],\n",
       "      dtype='object')"
      ]
     },
     "execution_count": 30,
     "metadata": {},
     "output_type": "execute_result"
    }
   ],
   "source": [
    "df1.columns"
   ]
  },
  {
   "cell_type": "code",
   "execution_count": 31,
   "id": "12b5e3f6",
   "metadata": {},
   "outputs": [
    {
     "data": {
      "text/plain": [
       "Index(['brand_name', 'model', 'price', 'rating', 'has_5g', 'has_nfc',\n",
       "       'has_ir_blaster', 'processor_name', 'processor_brand', 'num_cores',\n",
       "       'processor_speed', 'battery_capacity', 'fast_charging', 'ram_capacity',\n",
       "       'internal_memory', 'screen_size', 'refresh_rate', 'resolution',\n",
       "       'num_rear_cameras', 'num_front_cameras', 'os', 'primary_camera_rear',\n",
       "       'primary_camera_front', 'extended_memory'],\n",
       "      dtype='object')"
      ]
     },
     "execution_count": 31,
     "metadata": {},
     "output_type": "execute_result"
    }
   ],
   "source": [
    "df2.columns"
   ]
  },
  {
   "cell_type": "code",
   "execution_count": null,
   "id": "fa61c555",
   "metadata": {},
   "outputs": [],
   "source": [
    "#"
   ]
  }
 ],
 "metadata": {
  "kernelspec": {
   "display_name": "Python 3",
   "language": "python",
   "name": "python3"
  },
  "language_info": {
   "codemirror_mode": {
    "name": "ipython",
    "version": 3
   },
   "file_extension": ".py",
   "mimetype": "text/x-python",
   "name": "python",
   "nbconvert_exporter": "python",
   "pygments_lexer": "ipython3",
   "version": "3.13.7"
  }
 },
 "nbformat": 4,
 "nbformat_minor": 5
}
