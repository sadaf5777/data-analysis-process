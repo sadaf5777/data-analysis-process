{
 "cells": [
  {
   "cell_type": "code",
   "execution_count": 1,
   "id": "ca829269",
   "metadata": {},
   "outputs": [],
   "source": [
    "import numpy as np\n",
    "import pandas as pd"
   ]
  },
  {
   "cell_type": "code",
   "execution_count": 19,
   "id": "c8753099",
   "metadata": {},
   "outputs": [],
   "source": [
    "df1=pd.read_excel(r\"C:\\Users\\Nadeem Anwar\\Desktop\\Sadaf\\data analysis process\\web scraping with selenium\\completely_cleaned_smartprix_phones.xlsx\")"
   ]
  },
  {
   "cell_type": "code",
   "execution_count": 21,
   "id": "5f3fde9e",
   "metadata": {},
   "outputs": [],
   "source": [
    "df1.drop(columns=[\"Unnamed: 0\",\"spec_score\"],inplace=True)"
   ]
  },
  {
   "cell_type": "code",
   "execution_count": 14,
   "id": "da11adbc",
   "metadata": {},
   "outputs": [],
   "source": [
    "def str_to_num_cores (core):\n",
    "    if core == 'Octa Core':\n",
    "        return 8\n",
    "    elif core ==\"Hexa Core\":\n",
    "        return 6\n",
    "    elif core=='Deca Core':\n",
    "        return 10\n",
    "    elif core ==\"7 Cores\":\n",
    "        return 7\n",
    "    elif core==\"Nine Core\":\n",
    "        return 9\n",
    "    else :\n",
    "        return np.nan"
   ]
  },
  {
   "cell_type": "code",
   "execution_count": 22,
   "id": "cf512dcb",
   "metadata": {},
   "outputs": [],
   "source": [
    "df1[\"num_cores\"]=df1[\"num_cores\"].apply(str_to_num_cores)"
   ]
  },
  {
   "cell_type": "code",
   "execution_count": 23,
   "id": "9703bfe4",
   "metadata": {},
   "outputs": [
    {
     "data": {
      "text/plain": [
       "0       2\n",
       "1       2\n",
       "2       2\n",
       "3       3\n",
       "4       2\n",
       "       ..\n",
       "1015    3\n",
       "1016    3\n",
       "1017    3\n",
       "1018    3\n",
       "1019    3\n",
       "Name: num_rear_cameras, Length: 1020, dtype: int64"
      ]
     },
     "execution_count": 23,
     "metadata": {},
     "output_type": "execute_result"
    }
   ],
   "source": [
    "df1[\"num_rear_cameras\"]"
   ]
  },
  {
   "cell_type": "code",
   "execution_count": 24,
   "id": "70f5024f",
   "metadata": {},
   "outputs": [
    {
     "data": {
      "text/html": [
       "<div>\n",
       "<style scoped>\n",
       "    .dataframe tbody tr th:only-of-type {\n",
       "        vertical-align: middle;\n",
       "    }\n",
       "\n",
       "    .dataframe tbody tr th {\n",
       "        vertical-align: top;\n",
       "    }\n",
       "\n",
       "    .dataframe thead th {\n",
       "        text-align: right;\n",
       "    }\n",
       "</style>\n",
       "<table border=\"1\" class=\"dataframe\">\n",
       "  <thead>\n",
       "    <tr style=\"text-align: right;\">\n",
       "      <th></th>\n",
       "      <th>brand_name</th>\n",
       "      <th>model</th>\n",
       "      <th>price</th>\n",
       "      <th>ratings</th>\n",
       "      <th>has_5g</th>\n",
       "      <th>has_nfc</th>\n",
       "      <th>has_ir_blaster</th>\n",
       "      <th>processor_name</th>\n",
       "      <th>processor_brand</th>\n",
       "      <th>num_cores</th>\n",
       "      <th>...</th>\n",
       "      <th>fast_charging_available</th>\n",
       "      <th>fast_charging_W</th>\n",
       "      <th>resolution</th>\n",
       "      <th>refresh_rate</th>\n",
       "      <th>num_rear_cameras</th>\n",
       "      <th>num_front_cameras</th>\n",
       "      <th>memory_extended_upto</th>\n",
       "      <th>extended_memory_available</th>\n",
       "      <th>os</th>\n",
       "      <th>ram_capacity</th>\n",
       "    </tr>\n",
       "  </thead>\n",
       "  <tbody>\n",
       "    <tr>\n",
       "      <th>0</th>\n",
       "      <td>oppo f31 pro 5g</td>\n",
       "      <td>Oppo</td>\n",
       "      <td>₹26,999</td>\n",
       "      <td>4.55</td>\n",
       "      <td>True</td>\n",
       "      <td>False</td>\n",
       "      <td>False</td>\n",
       "      <td>Dimensity 7300 Energy</td>\n",
       "      <td>dimensity</td>\n",
       "      <td>8.0</td>\n",
       "      <td>...</td>\n",
       "      <td>1.0</td>\n",
       "      <td>80.0</td>\n",
       "      <td>1080 x 2372</td>\n",
       "      <td>120</td>\n",
       "      <td>2</td>\n",
       "      <td>1</td>\n",
       "      <td>NaN</td>\n",
       "      <td>1</td>\n",
       "      <td>Android</td>\n",
       "      <td>8</td>\n",
       "    </tr>\n",
       "    <tr>\n",
       "      <th>1</th>\n",
       "      <td>oppo f31 pro plus 5g</td>\n",
       "      <td>Oppo</td>\n",
       "      <td>₹32,999</td>\n",
       "      <td>4.15</td>\n",
       "      <td>True</td>\n",
       "      <td>False</td>\n",
       "      <td>False</td>\n",
       "      <td>Snapdragon 7 Gen3</td>\n",
       "      <td>snapdragon</td>\n",
       "      <td>8.0</td>\n",
       "      <td>...</td>\n",
       "      <td>1.0</td>\n",
       "      <td>80.0</td>\n",
       "      <td>1280 x 2800</td>\n",
       "      <td>120</td>\n",
       "      <td>2</td>\n",
       "      <td>1</td>\n",
       "      <td>NaN</td>\n",
       "      <td>1</td>\n",
       "      <td>Android</td>\n",
       "      <td>8</td>\n",
       "    </tr>\n",
       "  </tbody>\n",
       "</table>\n",
       "<p>2 rows × 24 columns</p>\n",
       "</div>"
      ],
      "text/plain": [
       "             brand_name model    price  ratings  has_5g  has_nfc  \\\n",
       "0       oppo f31 pro 5g  Oppo  ₹26,999     4.55    True    False   \n",
       "1  oppo f31 pro plus 5g  Oppo  ₹32,999     4.15    True    False   \n",
       "\n",
       "   has_ir_blaster         processor_name processor_brand  num_cores  ...  \\\n",
       "0           False  Dimensity 7300 Energy       dimensity        8.0  ...   \n",
       "1           False      Snapdragon 7 Gen3      snapdragon        8.0  ...   \n",
       "\n",
       "  fast_charging_available fast_charging_W   resolution  refresh_rate  \\\n",
       "0                     1.0            80.0  1080 x 2372           120   \n",
       "1                     1.0            80.0  1280 x 2800           120   \n",
       "\n",
       "   num_rear_cameras  num_front_cameras memory_extended_upto  \\\n",
       "0                 2                  1                  NaN   \n",
       "1                 2                  1                  NaN   \n",
       "\n",
       "   extended_memory_available       os ram_capacity  \n",
       "0                          1  Android            8  \n",
       "1                          1  Android            8  \n",
       "\n",
       "[2 rows x 24 columns]"
      ]
     },
     "execution_count": 24,
     "metadata": {},
     "output_type": "execute_result"
    }
   ],
   "source": [
    "df1.head(2)"
   ]
  },
  {
   "cell_type": "markdown",
   "id": "3b9fc35a",
   "metadata": {},
   "source": [
    "impoerting almost cleaned data to extract mp of primary rear nad fron camera and processor speed"
   ]
  },
  {
   "cell_type": "code",
   "execution_count": 65,
   "id": "c44abd23",
   "metadata": {},
   "outputs": [],
   "source": [
    "df2=pd.read_excel(r\"C:\\Users\\Nadeem Anwar\\Desktop\\Sadaf\\data analysis process\\web scraping with selenium\\almost_cleaned_phones.xlsx\",usecols=[\"camera\",\"ram\"])"
   ]
  },
  {
   "cell_type": "code",
   "execution_count": null,
   "id": "dfd45f3b",
   "metadata": {},
   "outputs": [
    {
     "data": {
      "text/plain": [
       "0       [Dimensity 7300 Energy,  Octa Core,  2.5 GHz P...\n",
       "1       [Snapdragon 7 Gen3,  Octa Core,  2.63 GHz Proc...\n",
       "2        [Dimensity 6300,  Octa Core,  2.4 GHz Processor]\n",
       "3       [Dimensity 8350,  Octa Core,  3.35 GHz Processor]\n",
       "4        [Dimensity 7300,  Octa Core,  2.5 GHz Processor]\n",
       "                              ...                        \n",
       "1015    [Dimensity 8100 Max,  Octa Core,  2.85 GHz Pro...\n",
       "1016    [Snapdragon 8 Gen1,  Octa Core,  3 GHz Processor]\n",
       "1017    [Snapdragon  695,  Octa Core,  2.2 GHz Processor]\n",
       "1018    [Snapdragon 8 Gen1,  Octa Core,  3 GHz Processor]\n",
       "1019       [Dimensity 1200,  Octa Core,  3 GHz Processor]\n",
       "Name: processor, Length: 1020, dtype: object"
      ]
     },
     "execution_count": 43,
     "metadata": {},
     "output_type": "execute_result"
    }
   ],
   "source": []
  },
  {
   "cell_type": "code",
   "execution_count": 35,
   "id": "fca64804",
   "metadata": {},
   "outputs": [],
   "source": [
    "df1[\"price\"]=df1[\"price\"].str.strip().str.replace(\"₹\",\"\").str.strip().str.replace(\",\",\"\").astype(\"int\")"
   ]
  },
  {
   "cell_type": "code",
   "execution_count": 50,
   "id": "297b6e84",
   "metadata": {},
   "outputs": [
    {
     "ename": "KeyError",
     "evalue": "\"['processor_name'] not found in axis\"",
     "output_type": "error",
     "traceback": [
      "\u001b[31m---------------------------------------------------------------------------\u001b[39m",
      "\u001b[31mKeyError\u001b[39m                                  Traceback (most recent call last)",
      "\u001b[36mCell\u001b[39m\u001b[36m \u001b[39m\u001b[32mIn[50]\u001b[39m\u001b[32m, line 1\u001b[39m\n\u001b[32m----> \u001b[39m\u001b[32m1\u001b[39m \u001b[43mdf1\u001b[49m\u001b[43m.\u001b[49m\u001b[43mdrop\u001b[49m\u001b[43m(\u001b[49m\u001b[43mcolumns\u001b[49m\u001b[43m=\u001b[49m\u001b[33;43m\"\u001b[39;49m\u001b[33;43mprocessor_name\u001b[39;49m\u001b[33;43m\"\u001b[39;49m\u001b[43m,\u001b[49m\u001b[43minplace\u001b[49m\u001b[43m=\u001b[49m\u001b[38;5;28;43;01mTrue\u001b[39;49;00m\u001b[43m)\u001b[49m\n",
      "\u001b[36mFile \u001b[39m\u001b[32mc:\\Users\\Nadeem Anwar\\AppData\\Local\\Programs\\Python\\Python313\\Lib\\site-packages\\pandas\\core\\frame.py:5588\u001b[39m, in \u001b[36mDataFrame.drop\u001b[39m\u001b[34m(self, labels, axis, index, columns, level, inplace, errors)\u001b[39m\n\u001b[32m   5440\u001b[39m \u001b[38;5;28;01mdef\u001b[39;00m\u001b[38;5;250m \u001b[39m\u001b[34mdrop\u001b[39m(\n\u001b[32m   5441\u001b[39m     \u001b[38;5;28mself\u001b[39m,\n\u001b[32m   5442\u001b[39m     labels: IndexLabel | \u001b[38;5;28;01mNone\u001b[39;00m = \u001b[38;5;28;01mNone\u001b[39;00m,\n\u001b[32m   (...)\u001b[39m\u001b[32m   5449\u001b[39m     errors: IgnoreRaise = \u001b[33m\"\u001b[39m\u001b[33mraise\u001b[39m\u001b[33m\"\u001b[39m,\n\u001b[32m   5450\u001b[39m ) -> DataFrame | \u001b[38;5;28;01mNone\u001b[39;00m:\n\u001b[32m   5451\u001b[39m \u001b[38;5;250m    \u001b[39m\u001b[33;03m\"\"\"\u001b[39;00m\n\u001b[32m   5452\u001b[39m \u001b[33;03m    Drop specified labels from rows or columns.\u001b[39;00m\n\u001b[32m   5453\u001b[39m \n\u001b[32m   (...)\u001b[39m\u001b[32m   5586\u001b[39m \u001b[33;03m            weight  1.0     0.8\u001b[39;00m\n\u001b[32m   5587\u001b[39m \u001b[33;03m    \"\"\"\u001b[39;00m\n\u001b[32m-> \u001b[39m\u001b[32m5588\u001b[39m     \u001b[38;5;28;01mreturn\u001b[39;00m \u001b[38;5;28;43msuper\u001b[39;49m\u001b[43m(\u001b[49m\u001b[43m)\u001b[49m\u001b[43m.\u001b[49m\u001b[43mdrop\u001b[49m\u001b[43m(\u001b[49m\n\u001b[32m   5589\u001b[39m \u001b[43m        \u001b[49m\u001b[43mlabels\u001b[49m\u001b[43m=\u001b[49m\u001b[43mlabels\u001b[49m\u001b[43m,\u001b[49m\n\u001b[32m   5590\u001b[39m \u001b[43m        \u001b[49m\u001b[43maxis\u001b[49m\u001b[43m=\u001b[49m\u001b[43maxis\u001b[49m\u001b[43m,\u001b[49m\n\u001b[32m   5591\u001b[39m \u001b[43m        \u001b[49m\u001b[43mindex\u001b[49m\u001b[43m=\u001b[49m\u001b[43mindex\u001b[49m\u001b[43m,\u001b[49m\n\u001b[32m   5592\u001b[39m \u001b[43m        \u001b[49m\u001b[43mcolumns\u001b[49m\u001b[43m=\u001b[49m\u001b[43mcolumns\u001b[49m\u001b[43m,\u001b[49m\n\u001b[32m   5593\u001b[39m \u001b[43m        \u001b[49m\u001b[43mlevel\u001b[49m\u001b[43m=\u001b[49m\u001b[43mlevel\u001b[49m\u001b[43m,\u001b[49m\n\u001b[32m   5594\u001b[39m \u001b[43m        \u001b[49m\u001b[43minplace\u001b[49m\u001b[43m=\u001b[49m\u001b[43minplace\u001b[49m\u001b[43m,\u001b[49m\n\u001b[32m   5595\u001b[39m \u001b[43m        \u001b[49m\u001b[43merrors\u001b[49m\u001b[43m=\u001b[49m\u001b[43merrors\u001b[49m\u001b[43m,\u001b[49m\n\u001b[32m   5596\u001b[39m \u001b[43m    \u001b[49m\u001b[43m)\u001b[49m\n",
      "\u001b[36mFile \u001b[39m\u001b[32mc:\\Users\\Nadeem Anwar\\AppData\\Local\\Programs\\Python\\Python313\\Lib\\site-packages\\pandas\\core\\generic.py:4807\u001b[39m, in \u001b[36mNDFrame.drop\u001b[39m\u001b[34m(self, labels, axis, index, columns, level, inplace, errors)\u001b[39m\n\u001b[32m   4805\u001b[39m \u001b[38;5;28;01mfor\u001b[39;00m axis, labels \u001b[38;5;129;01min\u001b[39;00m axes.items():\n\u001b[32m   4806\u001b[39m     \u001b[38;5;28;01mif\u001b[39;00m labels \u001b[38;5;129;01mis\u001b[39;00m \u001b[38;5;129;01mnot\u001b[39;00m \u001b[38;5;28;01mNone\u001b[39;00m:\n\u001b[32m-> \u001b[39m\u001b[32m4807\u001b[39m         obj = \u001b[43mobj\u001b[49m\u001b[43m.\u001b[49m\u001b[43m_drop_axis\u001b[49m\u001b[43m(\u001b[49m\u001b[43mlabels\u001b[49m\u001b[43m,\u001b[49m\u001b[43m \u001b[49m\u001b[43maxis\u001b[49m\u001b[43m,\u001b[49m\u001b[43m \u001b[49m\u001b[43mlevel\u001b[49m\u001b[43m=\u001b[49m\u001b[43mlevel\u001b[49m\u001b[43m,\u001b[49m\u001b[43m \u001b[49m\u001b[43merrors\u001b[49m\u001b[43m=\u001b[49m\u001b[43merrors\u001b[49m\u001b[43m)\u001b[49m\n\u001b[32m   4809\u001b[39m \u001b[38;5;28;01mif\u001b[39;00m inplace:\n\u001b[32m   4810\u001b[39m     \u001b[38;5;28mself\u001b[39m._update_inplace(obj)\n",
      "\u001b[36mFile \u001b[39m\u001b[32mc:\\Users\\Nadeem Anwar\\AppData\\Local\\Programs\\Python\\Python313\\Lib\\site-packages\\pandas\\core\\generic.py:4849\u001b[39m, in \u001b[36mNDFrame._drop_axis\u001b[39m\u001b[34m(self, labels, axis, level, errors, only_slice)\u001b[39m\n\u001b[32m   4847\u001b[39m         new_axis = axis.drop(labels, level=level, errors=errors)\n\u001b[32m   4848\u001b[39m     \u001b[38;5;28;01melse\u001b[39;00m:\n\u001b[32m-> \u001b[39m\u001b[32m4849\u001b[39m         new_axis = \u001b[43maxis\u001b[49m\u001b[43m.\u001b[49m\u001b[43mdrop\u001b[49m\u001b[43m(\u001b[49m\u001b[43mlabels\u001b[49m\u001b[43m,\u001b[49m\u001b[43m \u001b[49m\u001b[43merrors\u001b[49m\u001b[43m=\u001b[49m\u001b[43merrors\u001b[49m\u001b[43m)\u001b[49m\n\u001b[32m   4850\u001b[39m     indexer = axis.get_indexer(new_axis)\n\u001b[32m   4852\u001b[39m \u001b[38;5;66;03m# Case for non-unique axis\u001b[39;00m\n\u001b[32m   4853\u001b[39m \u001b[38;5;28;01melse\u001b[39;00m:\n",
      "\u001b[36mFile \u001b[39m\u001b[32mc:\\Users\\Nadeem Anwar\\AppData\\Local\\Programs\\Python\\Python313\\Lib\\site-packages\\pandas\\core\\indexes\\base.py:7136\u001b[39m, in \u001b[36mIndex.drop\u001b[39m\u001b[34m(self, labels, errors)\u001b[39m\n\u001b[32m   7134\u001b[39m \u001b[38;5;28;01mif\u001b[39;00m mask.any():\n\u001b[32m   7135\u001b[39m     \u001b[38;5;28;01mif\u001b[39;00m errors != \u001b[33m\"\u001b[39m\u001b[33mignore\u001b[39m\u001b[33m\"\u001b[39m:\n\u001b[32m-> \u001b[39m\u001b[32m7136\u001b[39m         \u001b[38;5;28;01mraise\u001b[39;00m \u001b[38;5;167;01mKeyError\u001b[39;00m(\u001b[33mf\u001b[39m\u001b[33m\"\u001b[39m\u001b[38;5;132;01m{\u001b[39;00mlabels[mask].tolist()\u001b[38;5;132;01m}\u001b[39;00m\u001b[33m not found in axis\u001b[39m\u001b[33m\"\u001b[39m)\n\u001b[32m   7137\u001b[39m     indexer = indexer[~mask]\n\u001b[32m   7138\u001b[39m \u001b[38;5;28;01mreturn\u001b[39;00m \u001b[38;5;28mself\u001b[39m.delete(indexer)\n",
      "\u001b[31mKeyError\u001b[39m: \"['processor_name'] not found in axis\""
     ]
    }
   ],
   "source": [
    "df1.drop(columns=\"processor_name\",inplace=True)"
   ]
  },
  {
   "cell_type": "code",
   "execution_count": 59,
   "id": "6d49c862",
   "metadata": {},
   "outputs": [],
   "source": [
    "df1[\"processor_speed\"]=df1[\"processor_speed\"].str.strip().str.split().str.get(0).astype('float')"
   ]
  },
  {
   "cell_type": "code",
   "execution_count": 63,
   "id": "3b49a76e",
   "metadata": {},
   "outputs": [],
   "source": [
    "df1.drop(columns=\"display\",inplace=True)"
   ]
  },
  {
   "cell_type": "code",
   "execution_count": 64,
   "id": "9d8b9800",
   "metadata": {},
   "outputs": [
    {
     "name": "stdout",
     "output_type": "stream",
     "text": [
      "<class 'pandas.core.frame.DataFrame'>\n",
      "RangeIndex: 1020 entries, 0 to 1019\n",
      "Data columns (total 22 columns):\n",
      " #   Column                     Non-Null Count  Dtype  \n",
      "---  ------                     --------------  -----  \n",
      " 0   brand_name                 1020 non-null   object \n",
      " 1   model                      1020 non-null   object \n",
      " 2   price                      1020 non-null   int64  \n",
      " 3   ratings                    1020 non-null   float64\n",
      " 4   has_5g                     1020 non-null   bool   \n",
      " 5   has_nfc                    1020 non-null   bool   \n",
      " 6   has_ir_blaster             1020 non-null   bool   \n",
      " 7   processor_brand            969 non-null    object \n",
      " 8   num_cores                  1012 non-null   float64\n",
      " 9   processor_speed            869 non-null    float64\n",
      " 10  display_size               1020 non-null   float64\n",
      " 11  battery_capacity           1013 non-null   float64\n",
      " 12  fast_charging_available    1008 non-null   float64\n",
      " 13  fast_charging_W            960 non-null    float64\n",
      " 14  resolution                 1020 non-null   object \n",
      " 15  refresh_rate               1020 non-null   int64  \n",
      " 16  num_rear_cameras           1020 non-null   int64  \n",
      " 17  num_front_cameras          1020 non-null   object \n",
      " 18  memory_extended_upto       271 non-null    float64\n",
      " 19  extended_memory_available  1020 non-null   int64  \n",
      " 20  os                         404 non-null    object \n",
      " 21  ram_capacity               1020 non-null   int64  \n",
      "dtypes: bool(3), float64(8), int64(5), object(6)\n",
      "memory usage: 154.5+ KB\n"
     ]
    }
   ],
   "source": [
    "df1.info()"
   ]
  },
  {
   "cell_type": "code",
   "execution_count": 76,
   "id": "98aef707",
   "metadata": {},
   "outputs": [],
   "source": [
    "# accessing internal memory\n",
    "internal_memory_GB=df2[\"ram\"].str.strip().str.split(\",\").str.get(1).str.strip().str.split().str.get(0)"
   ]
  },
  {
   "cell_type": "code",
   "execution_count": null,
   "id": "8b317792",
   "metadata": {},
   "outputs": [
    {
     "ename": "ValueError",
     "evalue": "cannot insert internal_memory_GB, already exists",
     "output_type": "error",
     "traceback": [
      "\u001b[31m---------------------------------------------------------------------------\u001b[39m",
      "\u001b[31mValueError\u001b[39m                                Traceback (most recent call last)",
      "\u001b[32m~\\AppData\\Local\\Temp\\ipykernel_1484\\3287338989.py\u001b[39m in \u001b[36m?\u001b[39m\u001b[34m()\u001b[39m\n\u001b[32m----> \u001b[39m\u001b[32m1\u001b[39m df1.insert(\u001b[32m22\u001b[39m,\u001b[33m\"internal_memory_GB\"\u001b[39m,internal_memory_GB).astype(\u001b[33m'float'\u001b[39m)\n",
      "\u001b[32mc:\\Users\\Nadeem Anwar\\AppData\\Local\\Programs\\Python\\Python313\\Lib\\site-packages\\pandas\\core\\frame.py\u001b[39m in \u001b[36m?\u001b[39m\u001b[34m(self, loc, column, value, allow_duplicates)\u001b[39m\n\u001b[32m   5161\u001b[39m                 \u001b[33m\"'self.flags.allows_duplicate_labels' is False.\"\u001b[39m\n\u001b[32m   5162\u001b[39m             )\n\u001b[32m   5163\u001b[39m         \u001b[38;5;28;01mif\u001b[39;00m \u001b[38;5;28;01mnot\u001b[39;00m allow_duplicates \u001b[38;5;28;01mand\u001b[39;00m column \u001b[38;5;28;01min\u001b[39;00m self.columns:\n\u001b[32m   5164\u001b[39m             \u001b[38;5;66;03m# Should this be a different kind of error??\u001b[39;00m\n\u001b[32m-> \u001b[39m\u001b[32m5165\u001b[39m             \u001b[38;5;28;01mraise\u001b[39;00m ValueError(f\"cannot insert {column}, already exists\")\n\u001b[32m   5166\u001b[39m         \u001b[38;5;28;01mif\u001b[39;00m \u001b[38;5;28;01mnot\u001b[39;00m is_integer(loc):\n\u001b[32m   5167\u001b[39m             \u001b[38;5;28;01mraise\u001b[39;00m TypeError(\u001b[33m\"loc must be int\"\u001b[39m)\n\u001b[32m   5168\u001b[39m         \u001b[38;5;66;03m# convert non stdlib ints to satisfy typing checks\u001b[39;00m\n",
      "\u001b[31mValueError\u001b[39m: cannot insert internal_memory_GB, already exists"
     ]
    }
   ],
   "source": [
    "df1.insert(22,\"internal_memory_GB\",internal_memory_GB)"
   ]
  },
  {
   "cell_type": "code",
   "execution_count": 80,
   "id": "4ae26fdc",
   "metadata": {},
   "outputs": [],
   "source": [
    "df1[\"internal_memory_GB\"]=df1[\"internal_memory_GB\"].astype(\"int\")"
   ]
  },
  {
   "cell_type": "code",
   "execution_count": 81,
   "id": "38e0c28a",
   "metadata": {},
   "outputs": [
    {
     "name": "stdout",
     "output_type": "stream",
     "text": [
      "<class 'pandas.core.frame.DataFrame'>\n",
      "RangeIndex: 1020 entries, 0 to 1019\n",
      "Data columns (total 23 columns):\n",
      " #   Column                     Non-Null Count  Dtype  \n",
      "---  ------                     --------------  -----  \n",
      " 0   brand_name                 1020 non-null   object \n",
      " 1   model                      1020 non-null   object \n",
      " 2   price                      1020 non-null   int64  \n",
      " 3   ratings                    1020 non-null   float64\n",
      " 4   has_5g                     1020 non-null   bool   \n",
      " 5   has_nfc                    1020 non-null   bool   \n",
      " 6   has_ir_blaster             1020 non-null   bool   \n",
      " 7   processor_brand            969 non-null    object \n",
      " 8   num_cores                  1012 non-null   float64\n",
      " 9   processor_speed            869 non-null    float64\n",
      " 10  display_size               1020 non-null   float64\n",
      " 11  battery_capacity           1013 non-null   float64\n",
      " 12  fast_charging_available    1008 non-null   float64\n",
      " 13  fast_charging_W            960 non-null    float64\n",
      " 14  resolution                 1020 non-null   object \n",
      " 15  refresh_rate               1020 non-null   int64  \n",
      " 16  num_rear_cameras           1020 non-null   int64  \n",
      " 17  num_front_cameras          1020 non-null   object \n",
      " 18  memory_extended_upto       271 non-null    float64\n",
      " 19  extended_memory_available  1020 non-null   int64  \n",
      " 20  os                         404 non-null    object \n",
      " 21  ram_capacity               1020 non-null   int64  \n",
      " 22  internal_memory_GB         1020 non-null   int64  \n",
      "dtypes: bool(3), float64(8), int64(6), object(6)\n",
      "memory usage: 162.5+ KB\n"
     ]
    }
   ],
   "source": [
    "df1.info()"
   ]
  },
  {
   "cell_type": "code",
   "execution_count": null,
   "id": "11bc058a",
   "metadata": {},
   "outputs": [
    {
     "data": {
      "text/html": [
       "<div>\n",
       "<style scoped>\n",
       "    .dataframe tbody tr th:only-of-type {\n",
       "        vertical-align: middle;\n",
       "    }\n",
       "\n",
       "    .dataframe tbody tr th {\n",
       "        vertical-align: top;\n",
       "    }\n",
       "\n",
       "    .dataframe thead th {\n",
       "        text-align: right;\n",
       "    }\n",
       "</style>\n",
       "<table border=\"1\" class=\"dataframe\">\n",
       "  <thead>\n",
       "    <tr style=\"text-align: right;\">\n",
       "      <th></th>\n",
       "      <th>ram</th>\n",
       "      <th>camera</th>\n",
       "    </tr>\n",
       "  </thead>\n",
       "  <tbody>\n",
       "    <tr>\n",
       "      <th>927</th>\n",
       "      <td>8 GB RAM, 12 GB inbuilt</td>\n",
       "      <td>Main + Depth Sensor Dual Rear &amp; Ultra Wide Fro...</td>\n",
       "    </tr>\n",
       "  </tbody>\n",
       "</table>\n",
       "</div>"
      ],
      "text/plain": [
       "                         ram  \\\n",
       "927  8 GB RAM, 12 GB inbuilt   \n",
       "\n",
       "                                                camera  \n",
       "927  Main + Depth Sensor Dual Rear & Ultra Wide Fro...  "
      ]
     },
     "execution_count": 90,
     "metadata": {},
     "output_type": "execute_result"
    }
   ],
   "source": [
    "df2[\"camera\"].str.strip().str.split().str.get(0)"
   ]
  },
  {
   "cell_type": "code",
   "execution_count": 92,
   "id": "bc97cd0c",
   "metadata": {},
   "outputs": [],
   "source": [
    "df1[\"primary_camera_rear_MP\"]=df2[\"camera\"].str.strip().str.split().str.get(0)"
   ]
  },
  {
   "cell_type": "code",
   "execution_count": 95,
   "id": "eb38dd89",
   "metadata": {},
   "outputs": [],
   "source": [
    "df1.loc[927,\"primary_camera_rear_MP\"]=np.nan"
   ]
  },
  {
   "cell_type": "code",
   "execution_count": 97,
   "id": "af7b3049",
   "metadata": {},
   "outputs": [],
   "source": [
    "df1[\"primary_camera_rear_MP\"]=df1[\"primary_camera_rear_MP\"].astype(\"float\")"
   ]
  },
  {
   "cell_type": "code",
   "execution_count": 111,
   "id": "a706d810",
   "metadata": {},
   "outputs": [
    {
     "data": {
      "text/html": [
       "<div>\n",
       "<style scoped>\n",
       "    .dataframe tbody tr th:only-of-type {\n",
       "        vertical-align: middle;\n",
       "    }\n",
       "\n",
       "    .dataframe tbody tr th {\n",
       "        vertical-align: top;\n",
       "    }\n",
       "\n",
       "    .dataframe thead th {\n",
       "        text-align: right;\n",
       "    }\n",
       "</style>\n",
       "<table border=\"1\" class=\"dataframe\">\n",
       "  <thead>\n",
       "    <tr style=\"text-align: right;\">\n",
       "      <th></th>\n",
       "      <th>ram</th>\n",
       "      <th>camera</th>\n",
       "    </tr>\n",
       "  </thead>\n",
       "  <tbody>\n",
       "    <tr>\n",
       "      <th>239</th>\n",
       "      <td>8 GB RAM, 128 GB inbuilt</td>\n",
       "      <td>50 MP + Macro Dual Rear &amp; Main Front Camera</td>\n",
       "    </tr>\n",
       "  </tbody>\n",
       "</table>\n",
       "</div>"
      ],
      "text/plain": [
       "                          ram                                       camera\n",
       "239  8 GB RAM, 128 GB inbuilt  50 MP + Macro Dual Rear & Main Front Camera"
      ]
     },
     "execution_count": 111,
     "metadata": {},
     "output_type": "execute_result"
    }
   ],
   "source": [
    "df2[df2[\"camera\"].str.strip().str.split(\"&\").str.get(1).str.strip().str.split().str.get(0).str.strip()==\"Main\"]"
   ]
  },
  {
   "cell_type": "code",
   "execution_count": 112,
   "id": "5490b3ac",
   "metadata": {},
   "outputs": [
    {
     "data": {
      "text/html": [
       "<div>\n",
       "<style scoped>\n",
       "    .dataframe tbody tr th:only-of-type {\n",
       "        vertical-align: middle;\n",
       "    }\n",
       "\n",
       "    .dataframe tbody tr th {\n",
       "        vertical-align: top;\n",
       "    }\n",
       "\n",
       "    .dataframe thead th {\n",
       "        text-align: right;\n",
       "    }\n",
       "</style>\n",
       "<table border=\"1\" class=\"dataframe\">\n",
       "  <thead>\n",
       "    <tr style=\"text-align: right;\">\n",
       "      <th></th>\n",
       "      <th>ram</th>\n",
       "      <th>camera</th>\n",
       "    </tr>\n",
       "  </thead>\n",
       "  <tbody>\n",
       "    <tr>\n",
       "      <th>927</th>\n",
       "      <td>8 GB RAM, 12 GB inbuilt</td>\n",
       "      <td>Main + Depth Sensor Dual Rear &amp; Ultra Wide Fro...</td>\n",
       "    </tr>\n",
       "  </tbody>\n",
       "</table>\n",
       "</div>"
      ],
      "text/plain": [
       "                         ram  \\\n",
       "927  8 GB RAM, 12 GB inbuilt   \n",
       "\n",
       "                                                camera  \n",
       "927  Main + Depth Sensor Dual Rear & Ultra Wide Fro...  "
      ]
     },
     "execution_count": 112,
     "metadata": {},
     "output_type": "execute_result"
    }
   ],
   "source": [
    "df2[df2[\"camera\"].str.strip().str.split(\"&\").str.get(1).str.strip().str.split().str.get(0).str.strip()==\"Ultra\"]"
   ]
  },
  {
   "cell_type": "code",
   "execution_count": 115,
   "id": "d191aec9",
   "metadata": {},
   "outputs": [],
   "source": [
    "df1[\"primary_camera_front_MP\"]=df2[\"camera\"].str.strip().str.split(\"&\").str.get(1).str.strip().str.split().str.get(0).str.strip()"
   ]
  },
  {
   "cell_type": "code",
   "execution_count": 118,
   "id": "c56b5bbb",
   "metadata": {},
   "outputs": [],
   "source": [
    "df1.loc[[239,927],\"primary_camera_front_MP\"]=np.nan"
   ]
  },
  {
   "cell_type": "code",
   "execution_count": 119,
   "id": "100a098a",
   "metadata": {},
   "outputs": [
    {
     "name": "stdout",
     "output_type": "stream",
     "text": [
      "<class 'pandas.core.frame.DataFrame'>\n",
      "RangeIndex: 1020 entries, 0 to 1019\n",
      "Data columns (total 25 columns):\n",
      " #   Column                     Non-Null Count  Dtype  \n",
      "---  ------                     --------------  -----  \n",
      " 0   brand_name                 1020 non-null   object \n",
      " 1   model                      1020 non-null   object \n",
      " 2   price                      1020 non-null   int64  \n",
      " 3   ratings                    1020 non-null   float64\n",
      " 4   has_5g                     1020 non-null   bool   \n",
      " 5   has_nfc                    1020 non-null   bool   \n",
      " 6   has_ir_blaster             1020 non-null   bool   \n",
      " 7   processor_brand            969 non-null    object \n",
      " 8   num_cores                  1012 non-null   float64\n",
      " 9   processor_speed            869 non-null    float64\n",
      " 10  display_size               1020 non-null   float64\n",
      " 11  battery_capacity           1013 non-null   float64\n",
      " 12  fast_charging_available    1008 non-null   float64\n",
      " 13  fast_charging_W            960 non-null    float64\n",
      " 14  resolution                 1020 non-null   object \n",
      " 15  refresh_rate               1020 non-null   int64  \n",
      " 16  num_rear_cameras           1020 non-null   int64  \n",
      " 17  num_front_cameras          1020 non-null   object \n",
      " 18  memory_extended_upto       271 non-null    float64\n",
      " 19  extended_memory_available  1020 non-null   int64  \n",
      " 20  os                         404 non-null    object \n",
      " 21  ram_capacity               1020 non-null   int64  \n",
      " 22  internal_memory_GB         1020 non-null   int64  \n",
      " 23  primary_camera_rear_MP     1019 non-null   float64\n",
      " 24  primary_camera_front_MP    1015 non-null   object \n",
      "dtypes: bool(3), float64(9), int64(6), object(7)\n",
      "memory usage: 178.4+ KB\n"
     ]
    }
   ],
   "source": [
    "df1.info()"
   ]
  },
  {
   "cell_type": "code",
   "execution_count": 121,
   "id": "f3090321",
   "metadata": {},
   "outputs": [],
   "source": [
    "df1.to_excel(\"latest_cleaned_phones.xlsx\")"
   ]
  }
 ],
 "metadata": {
  "kernelspec": {
   "display_name": "Python 3",
   "language": "python",
   "name": "python3"
  },
  "language_info": {
   "codemirror_mode": {
    "name": "ipython",
    "version": 3
   },
   "file_extension": ".py",
   "mimetype": "text/x-python",
   "name": "python",
   "nbconvert_exporter": "python",
   "pygments_lexer": "ipython3",
   "version": "3.13.7"
  }
 },
 "nbformat": 4,
 "nbformat_minor": 5
}
