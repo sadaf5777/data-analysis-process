{
 "cells": [
  {
   "cell_type": "code",
   "execution_count": 47,
   "id": "b78bb98c",
   "metadata": {},
   "outputs": [],
   "source": [
    "from selenium import webdriver\n",
    "from selenium.webdriver.edge.service import Service\n",
    "s=Service(r'C:/Users/Nadeem Anwar/Downloads/edgedriver_win64/msedgedriver.exe')\n",
    "from selenium.webdriver.common.by import By\n",
    "\n",
    "import time"
   ]
  },
  {
   "cell_type": "markdown",
   "id": "5b518d62",
   "metadata": {},
   "source": [
    "- opening  new window in edge browser"
   ]
  },
  {
   "cell_type": "code",
   "execution_count": 48,
   "id": "7b053a72",
   "metadata": {},
   "outputs": [],
   "source": [
    "driver=webdriver.Edge(service=s)"
   ]
  },
  {
   "cell_type": "markdown",
   "id": "f232b8bc",
   "metadata": {},
   "source": [
    "-hitting url "
   ]
  },
  {
   "cell_type": "code",
   "execution_count": 49,
   "id": "f0c55cc5",
   "metadata": {},
   "outputs": [],
   "source": [
    "driver.get('https://www.smartprix.com/mobiles')\n",
    "#wait = WebDriverWait(driver, 10) "
   ]
  },
  {
   "cell_type": "code",
   "execution_count": 20,
   "id": "6ae7e2b4",
   "metadata": {},
   "outputs": [],
   "source": [
    "#element = wait.until(EC.element_to_be_clickable((By.XPATH,'//input[@type=\"checkbox\"]')))\n",
    "#element.click()"
   ]
  },
  {
   "cell_type": "markdown",
   "id": "ca982abc",
   "metadata": {},
   "source": [
    "- height of entire page"
   ]
  },
  {
   "cell_type": "code",
   "execution_count": 50,
   "id": "66738e70",
   "metadata": {},
   "outputs": [
    {
     "name": "stdout",
     "output_type": "stream",
     "text": [
      "9741\n"
     ]
    }
   ],
   "source": [
    "old_height=driver.execute_script(\"return document.body.scrollHeight\")\n",
    "print(old_height)"
   ]
  },
  {
   "cell_type": "markdown",
   "id": "a2cd439f",
   "metadata": {},
   "source": [
    "- loading all items"
   ]
  },
  {
   "cell_type": "code",
   "execution_count": 51,
   "id": "acf493c9",
   "metadata": {},
   "outputs": [
    {
     "name": "stdout",
     "output_type": "stream",
     "text": [
      "9741\n",
      "9170\n",
      "2\n",
      "9170\n",
      "14865\n",
      "3\n",
      "14865\n",
      "20543\n",
      "4\n",
      "20543\n",
      "26186\n",
      "5\n",
      "26186\n",
      "31793\n",
      "6\n",
      "31793\n",
      "37469\n",
      "7\n",
      "37469\n",
      "43101\n",
      "8\n",
      "43101\n",
      "48728\n",
      "9\n",
      "48728\n",
      "54374\n",
      "10\n",
      "54374\n",
      "59983\n",
      "11\n",
      "59983\n",
      "65605\n",
      "12\n",
      "65605\n",
      "71230\n",
      "13\n",
      "71230\n",
      "76884\n",
      "14\n",
      "76884\n",
      "82516\n",
      "15\n",
      "82516\n",
      "88092\n",
      "16\n",
      "88092\n",
      "93688\n",
      "17\n",
      "93688\n",
      "99300\n",
      "18\n",
      "99300\n",
      "104936\n",
      "19\n",
      "104936\n",
      "110512\n",
      "20\n",
      "110512\n",
      "116160\n",
      "21\n",
      "116160\n",
      "121756\n",
      "22\n",
      "121756\n",
      "127398\n",
      "23\n",
      "127398\n",
      "133052\n",
      "24\n",
      "133052\n",
      "138671\n",
      "25\n",
      "138671\n",
      "144288\n",
      "26\n",
      "144288\n",
      "149801\n",
      "27\n",
      "149801\n",
      "155393\n",
      "28\n",
      "155393\n",
      "160940\n",
      "29\n",
      "160940\n",
      "166528\n",
      "30\n",
      "166528\n",
      "172068\n",
      "31\n",
      "172068\n",
      "177631\n",
      "32\n",
      "177631\n",
      "183186\n",
      "33\n",
      "183186\n",
      "188708\n",
      "34\n",
      "188708\n",
      "194286\n",
      "35\n",
      "194286\n",
      "199936\n",
      "36\n",
      "199936\n",
      "205489\n",
      "37\n",
      "205489\n",
      "211083\n",
      "38\n",
      "211083\n",
      "216661\n",
      "39\n",
      "216661\n",
      "222282\n",
      "40\n",
      "222282\n",
      "227862\n",
      "41\n",
      "227862\n",
      "233394\n",
      "42\n",
      "233394\n",
      "238944\n",
      "43\n",
      "238944\n",
      "244524\n",
      "44\n",
      "244524\n",
      "250072\n",
      "45\n",
      "250072\n",
      "255560\n",
      "46\n",
      "255560\n",
      "261172\n",
      "47\n",
      "261172\n",
      "266747\n",
      "48\n",
      "266747\n",
      "272281\n",
      "49\n",
      "272281\n",
      "277867\n",
      "50\n",
      "277867\n",
      "283461\n",
      "51\n",
      "283461\n",
      "289071\n",
      "52\n",
      "289071\n",
      "289071\n"
     ]
    }
   ],
   "source": [
    "counter=1\n",
    "while True:\n",
    "    driver.execute_script(\"window.scrollTo(0,document.body.scrollHeight)\")\n",
    "    driver.find_element(by=By.XPATH, value='//*[@id=\"app\"]/main/div[1]/div[2]/div[3]').click()\n",
    "    time.sleep(3)\n",
    "    new_height = driver.execute_script('return document.body.scrollHeight')\n",
    "    print(old_height)\n",
    "    print(new_height)\n",
    "    \n",
    "    if new_height==old_height:\n",
    "        break\n",
    "    old_height = new_height\n",
    "    counter=counter+1\n",
    "    print(counter)\n"
   ]
  },
  {
   "cell_type": "markdown",
   "id": "d097db0b",
   "metadata": {},
   "source": [
    "- getting html of entire page"
   ]
  },
  {
   "cell_type": "code",
   "execution_count": 52,
   "id": "1fd9b3fb",
   "metadata": {},
   "outputs": [],
   "source": [
    "html=driver.page_source\n",
    "\n",
    "with open ('smartpix.html','w', encoding='utf-8') as f :\n",
    "    f.write(html)\n"
   ]
  }
 ],
 "metadata": {
  "kernelspec": {
   "display_name": "Python 3",
   "language": "python",
   "name": "python3"
  },
  "language_info": {
   "codemirror_mode": {
    "name": "ipython",
    "version": 3
   },
   "file_extension": ".py",
   "mimetype": "text/x-python",
   "name": "python",
   "nbconvert_exporter": "python",
   "pygments_lexer": "ipython3",
   "version": "3.13.7"
  }
 },
 "nbformat": 4,
 "nbformat_minor": 5
}
