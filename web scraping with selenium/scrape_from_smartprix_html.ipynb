{
 "cells": [
  {
   "cell_type": "code",
   "execution_count": 24,
   "id": "e4675307",
   "metadata": {},
   "outputs": [],
   "source": [
    "from bs4 import BeautifulSoup\n",
    "import numpy as np\n",
    "import pandas as pd"
   ]
  },
  {
   "cell_type": "code",
   "execution_count": 25,
   "id": "27b4cfe3",
   "metadata": {},
   "outputs": [],
   "source": [
    "with open ('smartprix.html',\"r\",encoding='utf-8')as f:\n",
    "    smartpix_html=f.read()\n"
   ]
  },
  {
   "cell_type": "code",
   "execution_count": 26,
   "id": "e8927183",
   "metadata": {},
   "outputs": [],
   "source": [
    "soup=BeautifulSoup(smartpix_html,'html')\n"
   ]
  },
  {
   "cell_type": "code",
   "execution_count": 27,
   "id": "67355d62",
   "metadata": {},
   "outputs": [],
   "source": [
    "all_phones_div_tag=soup.find_all('div',class_=\"sm-product has-tag has-features has-actions\")"
   ]
  },
  {
   "cell_type": "code",
   "execution_count": null,
   "id": "8f53c54b",
   "metadata": {},
   "outputs": [],
   "source": [
    "brand_name=[]\n",
    "price=[]\n",
    "spec_score=[]\n",
    "ratings=[]\n",
    "dual_sim=[]\n",
    "processor=[]\n",
    "ram=[]\n",
    "battery=[]\n",
    "display=[]\n",
    "camera=[]\n",
    "memory=[]\n",
    "os=[]\n",
    "for phone in all_phones_div_tag:\n",
    "    try:\n",
    "        brand_name.append(phone.find('h2').text.strip())\n",
    "    except:\n",
    "        brand_name.append(np.nan)\n",
    "\n",
    "    try:\n",
    "        price.append(phone.find('span',class_='price').text.strip())\n",
    "\n",
    "    except:\n",
    "        price.append(np.nan)\n",
    "\n",
    "    try:\n",
    "        spec_score.append(phone.find('div',class_=\"score rank-1-bg\").text.strip())\n",
    "    except:\n",
    "        spec_score.append(np.nan)\n",
    "\n",
    "    try:\n",
    "       ratings.append(phone.find('div',class_='rating').find('span',class_='sm-rating')['style'].replace('--rating:',\"\").replace(\";\",\"\").strip())\n",
    "    except:\n",
    "        (ratings.append(np.nan))\n",
    "\n",
    "    try:\n",
    "        dual_sim.append(phone.find('li').text.replace(\"Dual Sim,\",\"\").strip())\n",
    "    except:\n",
    "        dual_sim.append(np.nan)\n",
    "\n",
    "    try:\n",
    "        processor.append(phone.find_all('li')[1].text.strip())\n",
    "    except:\n",
    "        processor.append(np.nan)\n",
    "    try:\n",
    "        ram.append(phone.find_all('li')[2].text.strip())\n",
    "    except:\n",
    "        ram.append(np.nan)\n",
    "    try:\n",
    "        battery.append(phone.find_all('li')[3].text.strip())\n",
    "    except:\n",
    "        battery.append(np.nan)\n",
    "    try:\n",
    "        display.append(phone.find_all('li')[4].text.strip())\n",
    "    except:\n",
    "        display.append(np.nan)\n",
    "    try:\n",
    "        camera.append(phone.find_all('li')[5].text.strip())\n",
    "    except:\n",
    "        battery.append(np.nan)\n",
    "    \n",
    "    try:\n",
    "        memory.append(phone.find('li',class_=\"s-no\").text.strip())\n",
    "\n",
    "    except:\n",
    "        memory.append(np.nan)\n",
    "    \n",
    "\n",
    "    try:\n",
    "        os.append(phone.find_all('li')[6].text.strip())\n",
    "    except:\n",
    "        os.append(np.nan)\n",
    "df=pd.DataFrame({'brand_name':brand_name,'price':price,'spec_score':spec_score,'ratings':ratings,\n",
    "                 'dual_sim':dual_sim,\"processor\":processor,\"ram\":ram,\"battery\":battery,\"display\":display,\"camera\":camera,\"memory\":memory,\"os\":os})\n",
    "    \n",
    "\n",
    "\n",
    "\n",
    "    \n",
    "\n",
    "\n",
    "\n",
    "    "
   ]
  },
  {
   "cell_type": "code",
   "execution_count": 37,
   "id": "e65743dc",
   "metadata": {},
   "outputs": [
    {
     "data": {
      "text/plain": [
       "np.int64(606)"
      ]
     },
     "execution_count": 37,
     "metadata": {},
     "output_type": "execute_result"
    }
   ],
   "source": [
    "df[\"memory\"].count()"
   ]
  },
  {
   "cell_type": "code",
   "execution_count": 39,
   "id": "55cbb03a",
   "metadata": {},
   "outputs": [],
   "source": [
    "df.to_csv(\"phone1.xlsx\")"
   ]
  }
 ],
 "metadata": {
  "kernelspec": {
   "display_name": "Python 3",
   "language": "python",
   "name": "python3"
  },
  "language_info": {
   "codemirror_mode": {
    "name": "ipython",
    "version": 3
   },
   "file_extension": ".py",
   "mimetype": "text/x-python",
   "name": "python",
   "nbconvert_exporter": "python",
   "pygments_lexer": "ipython3",
   "version": "3.13.7"
  }
 },
 "nbformat": 4,
 "nbformat_minor": 5
}
