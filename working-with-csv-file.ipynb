{
 "cells": [
  {
   "cell_type": "markdown",
   "id": "b68c414f",
   "metadata": {},
   "source": [
    "# importing pandas\n"
   ]
  },
  {
   "cell_type": "code",
   "execution_count": null,
   "id": "cf0e2285",
   "metadata": {},
   "outputs": [],
   "source": [
    "import pandas as pd"
   ]
  }
 ],
 "metadata": {
  "language_info": {
   "name": "python"
  }
 },
 "nbformat": 4,
 "nbformat_minor": 5
}
