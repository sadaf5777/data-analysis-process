{
 "cells": [
  {
   "cell_type": "markdown",
   "id": "c3b2fdb9",
   "metadata": {},
   "source": [
    "# working with sql"
   ]
  },
  {
   "cell_type": "code",
   "execution_count": null,
   "id": "92969688",
   "metadata": {
    "vscode": {
     "languageId": "plaintext"
    }
   },
   "outputs": [],
   "source": []
  }
 ],
 "metadata": {
  "language_info": {
   "name": "python"
  }
 },
 "nbformat": 4,
 "nbformat_minor": 5
}
