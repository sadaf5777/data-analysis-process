{
 "cells": [
  {
   "cell_type": "markdown",
   "id": "83e037d6",
   "metadata": {},
   "source": [
    "# data analysis process"
   ]
  },
  {
   "cell_type": "markdown",
   "id": "cbfa7fde",
   "metadata": {},
   "source": [
    "### 1 asking questions"
   ]
  },
  {
   "cell_type": "markdown",
   "id": "59b3ef0d",
   "metadata": {},
   "source": [
    "### 2 data wrangling"
   ]
  },
  {
   "cell_type": "markdown",
   "id": "f83c1ffb",
   "metadata": {},
   "source": [
    "          a. data gathering\n",
    "          \n",
    "\n",
    "            1. csv\n",
    "            2. api\n",
    "            3. web scraping\n",
    "            4. databases\n",
    "          b. assessing data\n",
    "          c. cleaning data\n",
    "\n",
    "   "
   ]
  },
  {
   "cell_type": "markdown",
   "id": "ae20628b",
   "metadata": {},
   "source": [
    "### 3. EDA \n",
    "### 4. drawing conclusion \n",
    "### 5.communicating results"
   ]
  },
  {
   "cell_type": "markdown",
   "id": "f03d3d44",
   "metadata": {},
   "source": [
    "### types of unclean data\n",
    "##### there are 2 types of unclean data\n"
   ]
  },
  {
   "cell_type": "markdown",
   "id": "59dc81ff",
   "metadata": {},
   "source": [
    "1. dirty data (data with quality issues ) dirty data, is also knows as low quality data. it has content issues\n",
    "     ###########"
   ]
  },
  {
   "cell_type": "code",
   "execution_count": 1,
   "id": "06801504",
   "metadata": {},
   "outputs": [],
   "source": [
    "import numpy as np\n",
    "import pandas as pd"
   ]
  },
  {
   "cell_type": "code",
   "execution_count": 2,
   "id": "e9cfd77a",
   "metadata": {},
   "outputs": [],
   "source": [
    "patients = pd.read_csv('patients.csv')\n",
    "treatments = pd.read_csv('treatments.csv')\n",
    "adverse_reactions = pd.read_csv('adverse_reactions.csv')\n",
    "treatments_cut = pd.read_csv('treatments_cut.csv')"
   ]
  }
 ],
 "metadata": {
  "kernelspec": {
   "display_name": "Python 3",
   "language": "python",
   "name": "python3"
  },
  "language_info": {
   "codemirror_mode": {
    "name": "ipython",
    "version": 3
   },
   "file_extension": ".py",
   "mimetype": "text/x-python",
   "name": "python",
   "nbconvert_exporter": "python",
   "pygments_lexer": "ipython3",
   "version": "3.13.7"
  }
 },
 "nbformat": 4,
 "nbformat_minor": 5
}
